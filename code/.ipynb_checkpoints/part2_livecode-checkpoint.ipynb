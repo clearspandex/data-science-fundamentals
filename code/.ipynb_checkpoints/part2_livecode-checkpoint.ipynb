{
 "cells": [
  {
   "cell_type": "code",
   "execution_count": 1,
   "metadata": {},
   "outputs": [
    {
     "name": "stdout",
     "output_type": "stream",
     "text": [
      "Using matplotlib backend: MacOSX\n"
     ]
    }
   ],
   "source": [
    "import pandas as pd\n",
    "import numpy as np\n",
    "import matplotlib.pyplot as plt\n",
    "import seaborn as sns\n",
    "\n",
    "%matplotlib"
   ]
  },
  {
   "cell_type": "markdown",
   "metadata": {},
   "source": [
    "# Lesson 9"
   ]
  },
  {
   "cell_type": "code",
   "execution_count": 2,
   "metadata": {},
   "outputs": [],
   "source": [
    "venues = pd.read_sql('venue', 'sqlite:///data/better_breakfasts_complete.db')\n",
    "listing = pd.read_sql('listing', 'sqlite:///data/better_breakfasts_complete.db')\n",
    "vicinity = pd.read_sql('vicinity', 'sqlite:///data/better_breakfasts_complete.db')"
   ]
  },
  {
   "cell_type": "code",
   "execution_count": 3,
   "metadata": {},
   "outputs": [
    {
     "data": {
      "text/plain": [
       "76.39537572254335"
      ]
     },
     "execution_count": 3,
     "metadata": {},
     "output_type": "execute_result"
    }
   ],
   "source": [
    "listing['price'] = listing.price.astype(float)\n",
    "listing.price.mean()"
   ]
  },
  {
   "cell_type": "code",
   "execution_count": 5,
   "metadata": {},
   "outputs": [
    {
     "data": {
      "text/plain": [
       "neighbourhood\n",
       "Ancoats and Clayton                 98.544554\n",
       "Ardwick                             60.548387\n",
       "Baguley                             47.500000\n",
       "Bradford                            67.952381\n",
       "Brooklands                          39.166667\n",
       "Burnage                            127.285714\n",
       "Charlestown                         33.000000\n",
       "Cheetham                           127.607143\n",
       "Chorlton                            69.218750\n",
       "Chorlton Park                       57.571429\n",
       "City Centre                        111.066986\n",
       "Crumpsall                           51.250000\n",
       "Didsbury East                       68.000000\n",
       "Didsbury West                       60.333333\n",
       "Fallowfield                         71.625000\n",
       "Gorton North                        30.500000\n",
       "Gorton South                        46.428571\n",
       "Harpurhey                           31.600000\n",
       "Higher Blackley                     23.333333\n",
       "Hulme                               52.066667\n",
       "Levenshulme                         31.272727\n",
       "Longsight                           51.111111\n",
       "Miles Platting and Newton Heath     30.500000\n",
       "Moss Side                           38.822222\n",
       "Moston                              35.000000\n",
       "Northenden                          35.000000\n",
       "Old Moat                            48.368421\n",
       "Rusholme                            59.542857\n",
       "Sharston                            40.428571\n",
       "Whalley Range                       55.142857\n",
       "Withington                          68.000000\n",
       "Name: price, dtype: float64"
      ]
     },
     "execution_count": 5,
     "metadata": {},
     "output_type": "execute_result"
    }
   ],
   "source": [
    "listing.groupby('neighbourhood').price.mean()"
   ]
  },
  {
   "cell_type": "code",
   "execution_count": 6,
   "metadata": {},
   "outputs": [
    {
     "data": {
      "text/plain": [
       "room_type\n",
       "Entire home/apt    130.873950\n",
       "Private room        38.441296\n",
       "Shared room         26.428571\n",
       "Name: price, dtype: float64"
      ]
     },
     "execution_count": 6,
     "metadata": {},
     "output_type": "execute_result"
    }
   ],
   "source": [
    "listing.groupby('room_type').price.mean()"
   ]
  },
  {
   "cell_type": "code",
   "execution_count": 7,
   "metadata": {},
   "outputs": [
    {
     "data": {
      "text/plain": [
       "room_type        neighbourhood      \n",
       "Entire home/apt  Ancoats and Clayton    124.869565\n",
       "                 Ardwick                 77.833333\n",
       "                 Baguley                100.000000\n",
       "                 Bradford               102.050000\n",
       "                 Brooklands             100.000000\n",
       "                                           ...    \n",
       "Shared room      City Centre             25.750000\n",
       "                 Crumpsall               14.000000\n",
       "                 Fallowfield             12.000000\n",
       "                 Hulme                   30.333333\n",
       "                 Moss Side               20.000000\n",
       "Name: price, Length: 67, dtype: float64"
      ]
     },
     "execution_count": 7,
     "metadata": {},
     "output_type": "execute_result"
    }
   ],
   "source": [
    "listing.groupby(['room_type', 'neighbourhood']).price.mean()"
   ]
  },
  {
   "cell_type": "code",
   "execution_count": 9,
   "metadata": {},
   "outputs": [
    {
     "data": {
      "text/html": [
       "<div>\n",
       "<style scoped>\n",
       "    .dataframe tbody tr th:only-of-type {\n",
       "        vertical-align: middle;\n",
       "    }\n",
       "\n",
       "    .dataframe tbody tr th {\n",
       "        vertical-align: top;\n",
       "    }\n",
       "\n",
       "    .dataframe thead th {\n",
       "        text-align: right;\n",
       "    }\n",
       "</style>\n",
       "<table border=\"1\" class=\"dataframe\">\n",
       "  <thead>\n",
       "    <tr style=\"text-align: right;\">\n",
       "      <th></th>\n",
       "      <th>id</th>\n",
       "      <th>name</th>\n",
       "      <th>host_id</th>\n",
       "      <th>host_name</th>\n",
       "      <th>neighbourhood</th>\n",
       "      <th>latitude</th>\n",
       "      <th>longitude</th>\n",
       "      <th>room_type</th>\n",
       "      <th>price</th>\n",
       "      <th>minimum_nights</th>\n",
       "      <th>number_of_reviews</th>\n",
       "      <th>last_review</th>\n",
       "      <th>reviews_per_month</th>\n",
       "      <th>calculated_host_listings_count</th>\n",
       "      <th>availability_365</th>\n",
       "      <th>activity</th>\n",
       "    </tr>\n",
       "  </thead>\n",
       "  <tbody>\n",
       "    <tr>\n",
       "      <td>250</td>\n",
       "      <td>2899349</td>\n",
       "      <td>TOWNHOUSE Ancoats-Sleeps 10 central</td>\n",
       "      <td>11985789</td>\n",
       "      <td>Sophie</td>\n",
       "      <td>Ancoats and Clayton</td>\n",
       "      <td>53.4847309722203</td>\n",
       "      <td>-2.229365752112069</td>\n",
       "      <td>Entire home/apt</td>\n",
       "      <td>180</td>\n",
       "      <td>2</td>\n",
       "      <td>53</td>\n",
       "      <td>2016-04-06</td>\n",
       "      <td>2.52</td>\n",
       "      <td>2</td>\n",
       "      <td>95</td>\n",
       "      <td>low</td>\n",
       "    </tr>\n",
       "    <tr>\n",
       "      <td>246</td>\n",
       "      <td>7757269</td>\n",
       "      <td>Large modern double in Manchester</td>\n",
       "      <td>40788058</td>\n",
       "      <td>Richard</td>\n",
       "      <td>Ancoats and Clayton</td>\n",
       "      <td>53.48711391175893</td>\n",
       "      <td>-2.2329270731055115</td>\n",
       "      <td>Private room</td>\n",
       "      <td>52</td>\n",
       "      <td>2</td>\n",
       "      <td>26</td>\n",
       "      <td>2016-04-10</td>\n",
       "      <td>3.16</td>\n",
       "      <td>1</td>\n",
       "      <td>345</td>\n",
       "      <td>low</td>\n",
       "    </tr>\n",
       "    <tr>\n",
       "      <td>731</td>\n",
       "      <td>6225294</td>\n",
       "      <td>3bed city centre loft conversion</td>\n",
       "      <td>32285896</td>\n",
       "      <td>Lisa</td>\n",
       "      <td>City Centre</td>\n",
       "      <td>53.484064242107934</td>\n",
       "      <td>-2.237637673500273</td>\n",
       "      <td>Entire home/apt</td>\n",
       "      <td>190</td>\n",
       "      <td>2</td>\n",
       "      <td>56</td>\n",
       "      <td>2016-04-05</td>\n",
       "      <td>5.22</td>\n",
       "      <td>1</td>\n",
       "      <td>50</td>\n",
       "      <td>medium</td>\n",
       "    </tr>\n",
       "    <tr>\n",
       "      <td>798</td>\n",
       "      <td>6953516</td>\n",
       "      <td>1 bedroom flat City Centre</td>\n",
       "      <td>14737636</td>\n",
       "      <td>Chris</td>\n",
       "      <td>City Centre</td>\n",
       "      <td>53.474302675444285</td>\n",
       "      <td>-2.2391521531121383</td>\n",
       "      <td>Entire home/apt</td>\n",
       "      <td>95</td>\n",
       "      <td>2</td>\n",
       "      <td>18</td>\n",
       "      <td>2016-01-22</td>\n",
       "      <td>1.92</td>\n",
       "      <td>1</td>\n",
       "      <td>258</td>\n",
       "      <td>low</td>\n",
       "    </tr>\n",
       "    <tr>\n",
       "      <td>524</td>\n",
       "      <td>2006649</td>\n",
       "      <td>Cosy double room close to Uni&amp;centr</td>\n",
       "      <td>4274481</td>\n",
       "      <td>Bass</td>\n",
       "      <td>Moss Side</td>\n",
       "      <td>53.4534267514149</td>\n",
       "      <td>-2.2340460848510064</td>\n",
       "      <td>Private room</td>\n",
       "      <td>22</td>\n",
       "      <td>1</td>\n",
       "      <td>3</td>\n",
       "      <td>2014-12-15</td>\n",
       "      <td>0.13</td>\n",
       "      <td>26</td>\n",
       "      <td>365</td>\n",
       "      <td>low</td>\n",
       "    </tr>\n",
       "    <tr>\n",
       "      <td>648</td>\n",
       "      <td>10884274</td>\n",
       "      <td>Manchester Large Double Bedroom</td>\n",
       "      <td>53972208</td>\n",
       "      <td>Michael</td>\n",
       "      <td>Ardwick</td>\n",
       "      <td>53.46440399906739</td>\n",
       "      <td>-2.2207875090061338</td>\n",
       "      <td>Private room</td>\n",
       "      <td>39</td>\n",
       "      <td>2</td>\n",
       "      <td>0</td>\n",
       "      <td></td>\n",
       "      <td>0.00</td>\n",
       "      <td>26</td>\n",
       "      <td>148</td>\n",
       "      <td>low</td>\n",
       "    </tr>\n",
       "    <tr>\n",
       "      <td>779</td>\n",
       "      <td>3306015</td>\n",
       "      <td>Central city apartment</td>\n",
       "      <td>16696508</td>\n",
       "      <td>Amy</td>\n",
       "      <td>City Centre</td>\n",
       "      <td>53.482982119852736</td>\n",
       "      <td>-2.236046208437696</td>\n",
       "      <td>Private room</td>\n",
       "      <td>60</td>\n",
       "      <td>1</td>\n",
       "      <td>51</td>\n",
       "      <td>2016-03-10</td>\n",
       "      <td>2.41</td>\n",
       "      <td>2</td>\n",
       "      <td>299</td>\n",
       "      <td>low</td>\n",
       "    </tr>\n",
       "    <tr>\n",
       "      <td>438</td>\n",
       "      <td>10955147</td>\n",
       "      <td>CITY CENTRE PRINTWORKS Apartment</td>\n",
       "      <td>47912967</td>\n",
       "      <td>Dragan</td>\n",
       "      <td>Cheetham</td>\n",
       "      <td>53.488799895848814</td>\n",
       "      <td>-2.240694484193885</td>\n",
       "      <td>Entire home/apt</td>\n",
       "      <td>80</td>\n",
       "      <td>2</td>\n",
       "      <td>5</td>\n",
       "      <td>2016-04-11</td>\n",
       "      <td>3.57</td>\n",
       "      <td>1</td>\n",
       "      <td>114</td>\n",
       "      <td>low</td>\n",
       "    </tr>\n",
       "    <tr>\n",
       "      <td>534</td>\n",
       "      <td>10888833</td>\n",
       "      <td>Manchester Twin Bedroom</td>\n",
       "      <td>53972208</td>\n",
       "      <td>Michael</td>\n",
       "      <td>Moss Side</td>\n",
       "      <td>53.45759404748994</td>\n",
       "      <td>-2.2381270034400114</td>\n",
       "      <td>Private room</td>\n",
       "      <td>45</td>\n",
       "      <td>2</td>\n",
       "      <td>1</td>\n",
       "      <td>2016-03-24</td>\n",
       "      <td>1.00</td>\n",
       "      <td>26</td>\n",
       "      <td>165</td>\n",
       "      <td>low</td>\n",
       "    </tr>\n",
       "    <tr>\n",
       "      <td>111</td>\n",
       "      <td>12329219</td>\n",
       "      <td>Private garden</td>\n",
       "      <td>3717018</td>\n",
       "      <td>Nanako</td>\n",
       "      <td>Didsbury West</td>\n",
       "      <td>53.415910349765134</td>\n",
       "      <td>-2.2332764988367138</td>\n",
       "      <td>Entire home/apt</td>\n",
       "      <td>97</td>\n",
       "      <td>1</td>\n",
       "      <td>0</td>\n",
       "      <td></td>\n",
       "      <td>0.00</td>\n",
       "      <td>1</td>\n",
       "      <td>365</td>\n",
       "      <td>low</td>\n",
       "    </tr>\n",
       "  </tbody>\n",
       "</table>\n",
       "</div>"
      ],
      "text/plain": [
       "           id                                 name   host_id host_name  \\\n",
       "250   2899349  TOWNHOUSE Ancoats-Sleeps 10 central  11985789    Sophie   \n",
       "246   7757269    Large modern double in Manchester  40788058   Richard   \n",
       "731   6225294     3bed city centre loft conversion  32285896      Lisa   \n",
       "798   6953516           1 bedroom flat City Centre  14737636     Chris   \n",
       "524   2006649  Cosy double room close to Uni&centr   4274481      Bass   \n",
       "648  10884274      Manchester Large Double Bedroom  53972208   Michael   \n",
       "779   3306015               Central city apartment  16696508       Amy   \n",
       "438  10955147     CITY CENTRE PRINTWORKS Apartment  47912967    Dragan   \n",
       "534  10888833              Manchester Twin Bedroom  53972208   Michael   \n",
       "111  12329219                       Private garden   3717018    Nanako   \n",
       "\n",
       "           neighbourhood            latitude            longitude  \\\n",
       "250  Ancoats and Clayton    53.4847309722203   -2.229365752112069   \n",
       "246  Ancoats and Clayton   53.48711391175893  -2.2329270731055115   \n",
       "731          City Centre  53.484064242107934   -2.237637673500273   \n",
       "798          City Centre  53.474302675444285  -2.2391521531121383   \n",
       "524            Moss Side    53.4534267514149  -2.2340460848510064   \n",
       "648              Ardwick   53.46440399906739  -2.2207875090061338   \n",
       "779          City Centre  53.482982119852736   -2.236046208437696   \n",
       "438             Cheetham  53.488799895848814   -2.240694484193885   \n",
       "534            Moss Side   53.45759404748994  -2.2381270034400114   \n",
       "111        Didsbury West  53.415910349765134  -2.2332764988367138   \n",
       "\n",
       "           room_type price minimum_nights number_of_reviews last_review  \\\n",
       "250  Entire home/apt   180              2                53  2016-04-06   \n",
       "246     Private room    52              2                26  2016-04-10   \n",
       "731  Entire home/apt   190              2                56  2016-04-05   \n",
       "798  Entire home/apt    95              2                18  2016-01-22   \n",
       "524     Private room    22              1                 3  2014-12-15   \n",
       "648     Private room    39              2                 0               \n",
       "779     Private room    60              1                51  2016-03-10   \n",
       "438  Entire home/apt    80              2                 5  2016-04-11   \n",
       "534     Private room    45              2                 1  2016-03-24   \n",
       "111  Entire home/apt    97              1                 0               \n",
       "\n",
       "     reviews_per_month calculated_host_listings_count availability_365  \\\n",
       "250               2.52                              2               95   \n",
       "246               3.16                              1              345   \n",
       "731               5.22                              1               50   \n",
       "798               1.92                              1              258   \n",
       "524               0.13                             26              365   \n",
       "648               0.00                             26              148   \n",
       "779               2.41                              2              299   \n",
       "438               3.57                              1              114   \n",
       "534               1.00                             26              165   \n",
       "111               0.00                              1              365   \n",
       "\n",
       "    activity  \n",
       "250      low  \n",
       "246      low  \n",
       "731   medium  \n",
       "798      low  \n",
       "524      low  \n",
       "648      low  \n",
       "779      low  \n",
       "438      low  \n",
       "534      low  \n",
       "111      low  "
      ]
     },
     "execution_count": 9,
     "metadata": {},
     "output_type": "execute_result"
    }
   ],
   "source": [
    "listing['reviews_per_month'] = listing.reviews_per_month.replace('', 0).astype(float)\n",
    "listing['activity'] = pd.cut(listing.reviews_per_month, 3, labels=['low', 'medium', 'high'])\n",
    "listing.sample(10)"
   ]
  },
  {
   "cell_type": "code",
   "execution_count": 15,
   "metadata": {},
   "outputs": [
    {
     "data": {
      "text/plain": [
       "[<matplotlib.lines.Line2D at 0x7fd719b02518>]"
      ]
     },
     "execution_count": 15,
     "metadata": {},
     "output_type": "execute_result"
    },
    {
     "data": {
      "image/png": "[encoded data removed]",
      "text/plain": [
       "<Figure size 432x288 with 1 Axes>"
      ]
     },
     "metadata": {
      "needs_background": "light"
     },
     "output_type": "display_data"
    }
   ],
   "source": [
    "from scipy import stats\n",
    "\n",
    "rv = stats.poisson(2.5)\n",
    "\n",
    "x = np.arange(10)\n",
    "plt.plot(x, rv.pmf(x))"
   ]
  },
  {
   "cell_type": "code",
   "execution_count": 16,
   "metadata": {},
   "outputs": [
    {
     "data": {
      "text/plain": [
       "array([1, 0, 1, 3, 2, 1, 3, 2, 5, 2])"
      ]
     },
     "execution_count": 16,
     "metadata": {},
     "output_type": "execute_result"
    }
   ],
   "source": [
    "rv.rvs(10)"
   ]
  },
  {
   "cell_type": "code",
   "execution_count": 17,
   "metadata": {},
   "outputs": [
    {
     "data": {
      "text/plain": [
       "[<matplotlib.lines.Line2D at 0x7fd719adce10>]"
      ]
     },
     "execution_count": 17,
     "metadata": {},
     "output_type": "execute_result"
    },
    {
     "data": {
      "image/png": "[encoded data removed]",
      "text/plain": [
       "<Figure size 432x288 with 1 Axes>"
      ]
     },
     "metadata": {
      "needs_background": "light"
     },
     "output_type": "display_data"
    }
   ],
   "source": [
    "samples = stats.poisson.rvs(2.5, size=10)\n",
    "plt.plot(samples)"
   ]
  },
  {
   "cell_type": "code",
   "execution_count": 18,
   "metadata": {},
   "outputs": [
    {
     "data": {
      "text/plain": [
       "(array([2., 0., 3., 0., 2., 0., 2., 0., 0., 1.]),\n",
       " array([1. , 1.5, 2. , 2.5, 3. , 3.5, 4. , 4.5, 5. , 5.5, 6. ]),\n",
       " <a list of 10 Patch objects>)"
      ]
     },
     "execution_count": 18,
     "metadata": {},
     "output_type": "execute_result"
    },
    {
     "data": {
      "image/png": "[encoded data removed]",
      "text/plain": [
       "<Figure size 432x288 with 1 Axes>"
      ]
     },
     "metadata": {
      "needs_background": "light"
     },
     "output_type": "display_data"
    }
   ],
   "source": [
    "plt.hist(samples)"
   ]
  },
  {
   "cell_type": "code",
   "execution_count": 19,
   "metadata": {},
   "outputs": [
    {
     "data": {
      "text/plain": [
       "<matplotlib.axes._subplots.AxesSubplot at 0x7fd719a3af28>"
      ]
     },
     "execution_count": 19,
     "metadata": {},
     "output_type": "execute_result"
    },
    {
     "data": {
      "image/png": "[encoded data removed]",
      "text/plain": [
       "<Figure size 432x288 with 1 Axes>"
      ]
     },
     "metadata": {
      "needs_background": "light"
     },
     "output_type": "display_data"
    }
   ],
   "source": [
    "sns.kdeplot(samples)"
   ]
  },
  {
   "cell_type": "code",
   "execution_count": 20,
   "metadata": {},
   "outputs": [
    {
     "data": {
      "text/plain": [
       "[<matplotlib.lines.Line2D at 0x7fd719b1ef98>]"
      ]
     },
     "execution_count": 20,
     "metadata": {},
     "output_type": "execute_result"
    },
    {
     "data": {
      "image/png": "[encoded data removed]",
      "text/plain": [
       "<Figure size 432x288 with 1 Axes>"
      ]
     },
     "metadata": {
      "needs_background": "light"
     },
     "output_type": "display_data"
    }
   ],
   "source": [
    "samples = stats.poisson.rvs(2.5, size=1000)\n",
    "plt.plot(samples)"
   ]
  },
  {
   "cell_type": "code",
   "execution_count": 21,
   "metadata": {},
   "outputs": [
    {
     "data": {
      "text/plain": [
       "(array([ 70., 207., 248., 210., 137.,  76.,  34.,  12.,   4.,   2.]),\n",
       " array([ 0.,  1.,  2.,  3.,  4.,  5.,  6.,  7.,  8.,  9., 10.]),\n",
       " <a list of 10 Patch objects>)"
      ]
     },
     "execution_count": 21,
     "metadata": {},
     "output_type": "execute_result"
    },
    {
     "data": {
      "image/png": "[encoded data removed]",
      "text/plain": [
       "<Figure size 432x288 with 1 Axes>"
      ]
     },
     "metadata": {
      "needs_background": "light"
     },
     "output_type": "display_data"
    }
   ],
   "source": [
    "plt.hist(samples)"
   ]
  },
  {
   "cell_type": "code",
   "execution_count": 22,
   "metadata": {},
   "outputs": [
    {
     "data": {
      "text/plain": [
       "<matplotlib.axes._subplots.AxesSubplot at 0x7fd74878efd0>"
      ]
     },
     "execution_count": 22,
     "metadata": {},
     "output_type": "execute_result"
    },
    {
     "data": {
      "image/png": "[encoded data removed]",
      "text/plain": [
       "<Figure size 432x288 with 1 Axes>"
      ]
     },
     "metadata": {
      "needs_background": "light"
     },
     "output_type": "display_data"
    }
   ],
   "source": [
    "sns.kdeplot(samples)"
   ]
  },
  {
   "cell_type": "code",
   "execution_count": 23,
   "metadata": {},
   "outputs": [
    {
     "name": "stderr",
     "output_type": "stream",
     "text": [
      "/Users/jonathandinu/anaconda3/lib/python3.7/site-packages/ipykernel_launcher.py:1: MatplotlibDeprecationWarning: \n",
      "The 'normed' kwarg was deprecated in Matplotlib 2.1 and will be removed in 3.1. Use 'density' instead.\n",
      "  \"\"\"Entry point for launching an IPython kernel.\n"
     ]
    },
    {
     "data": {
      "text/plain": [
       "(array([0.07 , 0.207, 0.248, 0.21 , 0.137, 0.076, 0.034, 0.012, 0.004,\n",
       "        0.002]),\n",
       " array([ 0.,  1.,  2.,  3.,  4.,  5.,  6.,  7.,  8.,  9., 10.]),\n",
       " <a list of 10 Patch objects>)"
      ]
     },
     "execution_count": 23,
     "metadata": {},
     "output_type": "execute_result"
    },
    {
     "data": {
      "image/png": "[encoded data removed]",
      "text/plain": [
       "<Figure size 432x288 with 1 Axes>"
      ]
     },
     "metadata": {
      "needs_background": "light"
     },
     "output_type": "display_data"
    }
   ],
   "source": [
    "plt.hist(samples, normed=True)"
   ]
  },
  {
   "cell_type": "code",
   "execution_count": 24,
   "metadata": {},
   "outputs": [
    {
     "data": {
      "text/plain": [
       "<matplotlib.axes._subplots.AxesSubplot at 0x7fd778c05da0>"
      ]
     },
     "execution_count": 24,
     "metadata": {},
     "output_type": "execute_result"
    },
    {
     "data": {
      "image/png": "[encoded data removed]",
      "text/plain": [
       "<Figure size 432x288 with 1 Axes>"
      ]
     },
     "metadata": {
      "needs_background": "light"
     },
     "output_type": "display_data"
    }
   ],
   "source": [
    "# poisson is a discrete distribution with a continuous parameter\n",
    "samples = stats.poisson.rvs(2.5, size=100000)\n",
    "sns.kdeplot(samples)"
   ]
  },
  {
   "cell_type": "code",
   "execution_count": 25,
   "metadata": {},
   "outputs": [
    {
     "data": {
      "text/plain": [
       "array([0.2052125 , 0.        , 0.00994062])"
      ]
     },
     "execution_count": 25,
     "metadata": {},
     "output_type": "execute_result"
    }
   ],
   "source": [
    "rv.pmf([1, 2.5, 7])"
   ]
  },
  {
   "cell_type": "code",
   "execution_count": 26,
   "metadata": {},
   "outputs": [
    {
     "data": {
      "text/plain": [
       "array([2.05212497e-01, 2.56515621e-01, 2.13763017e-01, 2.05212497e-01,\n",
       "       2.05212497e-01, 2.05212497e-01, 2.05212497e-01, 2.13763017e-01,\n",
       "       2.05212497e-01, 2.13763017e-01, 2.05212497e-01, 2.05212497e-01,\n",
       "       2.05212497e-01, 2.05212497e-01, 2.05212497e-01, 8.20849986e-02,\n",
       "       8.20849986e-02, 8.20849986e-02, 8.20849986e-02, 2.56515621e-01,\n",
       "       8.20849986e-02, 8.20849986e-02, 8.20849986e-02, 2.05212497e-01,\n",
       "       8.20849986e-02, 2.56515621e-01, 2.56515621e-01, 2.13763017e-01,\n",
       "       8.20849986e-02, 2.13763017e-01, 2.56515621e-01, 2.05212497e-01,\n",
       "       8.20849986e-02, 2.05212497e-01, 2.13763017e-01, 8.20849986e-02,\n",
       "       2.56515621e-01, 2.05212497e-01, 8.20849986e-02, 2.05212497e-01,\n",
       "       8.20849986e-02, 2.56515621e-01, 8.20849986e-02, 8.20849986e-02,\n",
       "       2.56515621e-01, 8.20849986e-02, 6.68009429e-02, 2.13763017e-01,\n",
       "       2.56515621e-01, 2.05212497e-01, 2.05212497e-01, 2.56515621e-01,\n",
       "       2.56515621e-01, 2.56515621e-01, 8.20849986e-02, 2.05212497e-01,\n",
       "       8.20849986e-02, 2.13763017e-01, 2.13763017e-01, 2.56515621e-01,\n",
       "       6.68009429e-02, 2.05212497e-01, 2.78337262e-02, 6.68009429e-02,\n",
       "       2.13763017e-01, 1.33601886e-01, 2.05212497e-01, 8.20849986e-02,\n",
       "       8.20849986e-02, 4.90284510e-05, 8.20849986e-02, 8.20849986e-02,\n",
       "       8.20849986e-02, 1.33601886e-01, 8.20849986e-02, 8.20849986e-02,\n",
       "       8.20849986e-02, 2.13763017e-01, 2.78337262e-02, 6.68009429e-02,\n",
       "       2.56515621e-01, 2.05212497e-01, 2.05212497e-01, 8.20849986e-02,\n",
       "       8.20849986e-02, 2.13763017e-01, 1.33601886e-01, 2.56515621e-01,\n",
       "       2.05212497e-01, 8.20849986e-02, 2.13763017e-01, 2.05212497e-01,\n",
       "       2.56515621e-01, 6.68009429e-02, 9.94061650e-03, 2.13763017e-01,\n",
       "       8.20849986e-02, 8.20849986e-02, 8.20849986e-02, 2.13763017e-01,\n",
       "       8.20849986e-02, 2.13763017e-01, 2.56515621e-01, 8.20849986e-02,\n",
       "       3.10644266e-03, 8.20849986e-02, 8.20849986e-02, 8.20849986e-02,\n",
       "       2.05212497e-01, 2.56515621e-01, 2.56515621e-01, 8.20849986e-02,\n",
       "       2.56515621e-01, 2.78337262e-02, 1.33601886e-01, 1.33601886e-01,\n",
       "       8.20849986e-02, 2.05212497e-01, 2.78337262e-02, 2.56515621e-01,\n",
       "       2.05212497e-01, 2.05212497e-01, 2.05212497e-01, 2.05212497e-01,\n",
       "       2.05212497e-01, 2.56515621e-01, 2.56515621e-01, 2.56515621e-01,\n",
       "       8.20849986e-02, 2.05212497e-01, 8.20849986e-02, 8.20849986e-02,\n",
       "       2.13763017e-01, 2.05212497e-01, 2.05212497e-01, 2.05212497e-01,\n",
       "       2.05212497e-01, 2.05212497e-01, 2.05212497e-01, 2.05212497e-01,\n",
       "       1.33601886e-01, 2.56515621e-01, 2.13763017e-01, 2.05212497e-01,\n",
       "       1.33601886e-01, 8.20849986e-02, 2.13763017e-01, 8.20849986e-02,\n",
       "       6.68009429e-02, 8.20849986e-02, 8.20849986e-02, 8.20849986e-02,\n",
       "       2.56515621e-01, 1.33601886e-01, 2.05212497e-01, 2.05212497e-01,\n",
       "       2.56515621e-01, 2.05212497e-01, 8.20849986e-02, 8.20849986e-02,\n",
       "       2.56515621e-01, 2.56515621e-01, 2.13763017e-01, 2.05212497e-01,\n",
       "       8.20849986e-02, 8.20849986e-02, 2.05212497e-01, 1.33601886e-01,\n",
       "       8.20849986e-02, 2.13763017e-01, 8.20849986e-02, 8.20849986e-02,\n",
       "       2.05212497e-01, 8.20849986e-02, 2.05212497e-01, 2.13763017e-01,\n",
       "       8.20849986e-02, 8.20849986e-02, 8.20849986e-02, 8.20849986e-02,\n",
       "       8.20849986e-02, 8.20849986e-02, 2.13763017e-01, 8.20849986e-02,\n",
       "       6.68009429e-02, 6.68009429e-02, 8.20849986e-02, 8.20849986e-02,\n",
       "       3.10644266e-03, 8.20849986e-02, 2.56515621e-01, 2.13763017e-01,\n",
       "       8.20849986e-02, 2.56515621e-01, 2.56515621e-01, 8.20849986e-02,\n",
       "       2.13763017e-01, 2.13763017e-01, 8.20849986e-02, 2.56515621e-01,\n",
       "       3.10644266e-03, 8.20849986e-02, 2.56515621e-01, 1.33601886e-01,\n",
       "       2.15725184e-04, 4.90284510e-05, 2.56515621e-01, 6.68009429e-02,\n",
       "       8.20849986e-02, 2.13763017e-01, 2.05212497e-01, 8.20849986e-02,\n",
       "       8.20849986e-02, 8.20849986e-02, 8.20849986e-02, 8.20849986e-02,\n",
       "       8.20849986e-02, 2.78337262e-02, 6.68009429e-02, 3.10644266e-03,\n",
       "       6.68009429e-02, 8.20849986e-02, 2.56515621e-01, 8.20849986e-02,\n",
       "       2.56515621e-01, 8.20849986e-02, 2.05212497e-01, 2.13763017e-01,\n",
       "       2.05212497e-01, 2.05212497e-01, 2.13763017e-01, 2.05212497e-01,\n",
       "       8.20849986e-02, 2.78337262e-02, 2.78337262e-02, 8.20849986e-02,\n",
       "       8.20849986e-02, 8.20849986e-02, 2.56515621e-01, 2.78337262e-02,\n",
       "       2.05212497e-01, 2.56515621e-01, 2.56515621e-01, 1.33601886e-01,\n",
       "       2.13763017e-01, 2.13763017e-01, 2.13763017e-01, 2.05212497e-01,\n",
       "       6.68009429e-02, 2.56515621e-01, 2.13763017e-01, 2.05212497e-01,\n",
       "       6.68009429e-02, 2.56515621e-01, 1.33601886e-01, 8.62900738e-04,\n",
       "       6.68009429e-02, 8.20849986e-02, 2.13763017e-01, 6.68009429e-02,\n",
       "       8.20849986e-02, 8.20849986e-02, 8.20849986e-02, 8.20849986e-02,\n",
       "       2.13763017e-01, 8.20849986e-02, 8.20849986e-02, 2.56515621e-01,\n",
       "       8.20849986e-02, 2.56515621e-01, 8.20849986e-02, 8.20849986e-02,\n",
       "       8.20849986e-02, 8.20849986e-02, 2.78337262e-02, 2.13763017e-01,\n",
       "       1.33601886e-01, 2.05212497e-01, 8.20849986e-02, 2.56515621e-01,\n",
       "       2.05212497e-01, 8.20849986e-02, 8.20849986e-02, 8.20849986e-02,\n",
       "       8.20849986e-02, 2.05212497e-01, 8.20849986e-02, 8.20849986e-02,\n",
       "       2.13763017e-01, 2.56515621e-01, 2.05212497e-01, 1.33601886e-01,\n",
       "       8.20849986e-02, 8.20849986e-02, 2.05212497e-01, 8.20849986e-02,\n",
       "       2.05212497e-01, 8.20849986e-02, 8.20849986e-02, 8.20849986e-02,\n",
       "       8.20849986e-02, 8.20849986e-02, 2.05212497e-01, 8.20849986e-02,\n",
       "       8.20849986e-02, 8.20849986e-02, 8.20849986e-02, 8.20849986e-02,\n",
       "       2.05212497e-01, 8.20849986e-02, 8.20849986e-02, 8.20849986e-02,\n",
       "       6.68009429e-02, 2.56515621e-01, 8.20849986e-02, 8.20849986e-02,\n",
       "       8.20849986e-02, 8.20849986e-02, 8.20849986e-02, 8.20849986e-02,\n",
       "       8.20849986e-02, 2.05212497e-01, 2.05212497e-01, 8.20849986e-02,\n",
       "       2.05212497e-01, 8.20849986e-02, 8.20849986e-02, 8.20849986e-02,\n",
       "       2.56515621e-01, 2.78337262e-02, 1.33601886e-01, 8.20849986e-02,\n",
       "       2.56515621e-01, 2.05212497e-01, 2.56515621e-01, 8.20849986e-02,\n",
       "       2.56515621e-01, 2.05212497e-01, 2.56515621e-01, 8.20849986e-02,\n",
       "       8.20849986e-02, 8.20849986e-02, 8.20849986e-02, 2.05212497e-01,\n",
       "       2.05212497e-01, 8.20849986e-02, 8.20849986e-02, 2.13763017e-01,\n",
       "       8.20849986e-02, 8.20849986e-02, 8.20849986e-02, 8.20849986e-02,\n",
       "       2.56515621e-01, 2.56515621e-01, 8.20849986e-02, 8.20849986e-02,\n",
       "       8.20849986e-02, 8.20849986e-02, 2.05212497e-01, 8.20849986e-02,\n",
       "       9.94061650e-03, 8.20849986e-02, 2.05212497e-01, 2.56515621e-01,\n",
       "       2.56515621e-01, 2.56515621e-01, 2.05212497e-01, 2.13763017e-01,\n",
       "       8.20849986e-02, 8.20849986e-02, 1.33601886e-01, 8.20849986e-02,\n",
       "       8.20849986e-02, 8.20849986e-02, 8.20849986e-02, 8.20849986e-02,\n",
       "       2.56515621e-01, 2.05212497e-01, 2.05212497e-01, 8.20849986e-02,\n",
       "       2.05212497e-01, 2.78337262e-02, 2.13763017e-01, 8.20849986e-02,\n",
       "       2.05212497e-01, 8.20849986e-02, 1.33601886e-01, 2.05212497e-01,\n",
       "       2.13763017e-01, 2.13763017e-01, 2.05212497e-01, 2.05212497e-01,\n",
       "       2.05212497e-01, 8.20849986e-02, 8.20849986e-02, 8.20849986e-02,\n",
       "       8.20849986e-02, 2.13763017e-01, 2.56515621e-01, 8.20849986e-02,\n",
       "       6.68009429e-02, 2.13763017e-01, 2.56515621e-01, 2.05212497e-01,\n",
       "       2.56515621e-01, 2.05212497e-01, 2.05212497e-01, 2.13763017e-01,\n",
       "       2.05212497e-01, 2.13763017e-01, 2.56515621e-01, 2.56515621e-01,\n",
       "       9.94061650e-03, 3.10644266e-03, 8.20849986e-02, 8.20849986e-02,\n",
       "       8.20849986e-02, 3.10644266e-03, 2.05212497e-01, 8.20849986e-02,\n",
       "       8.20849986e-02, 2.05212497e-01, 8.20849986e-02, 2.05212497e-01,\n",
       "       2.56515621e-01, 2.05212497e-01, 8.20849986e-02, 2.13763017e-01,\n",
       "       2.05212497e-01, 2.05212497e-01, 8.20849986e-02, 2.13763017e-01,\n",
       "       8.20849986e-02, 8.20849986e-02, 8.20849986e-02, 2.05212497e-01,\n",
       "       8.20849986e-02, 2.13763017e-01, 1.33601886e-01, 1.33601886e-01,\n",
       "       2.13763017e-01, 8.20849986e-02, 2.05212497e-01, 8.20849986e-02,\n",
       "       2.56515621e-01, 8.20849986e-02, 2.56515621e-01, 2.56515621e-01,\n",
       "       8.20849986e-02, 2.56515621e-01, 2.56515621e-01, 2.05212497e-01,\n",
       "       2.56515621e-01, 8.20849986e-02, 1.33601886e-01, 2.05212497e-01,\n",
       "       8.20849986e-02, 8.20849986e-02, 2.13763017e-01, 2.56515621e-01,\n",
       "       8.20849986e-02, 2.78337262e-02, 2.56515621e-01, 2.05212497e-01,\n",
       "       2.05212497e-01, 2.05212497e-01, 2.56515621e-01, 8.20849986e-02,\n",
       "       1.33601886e-01, 2.56515621e-01, 8.20849986e-02, 8.20849986e-02,\n",
       "       8.20849986e-02, 8.20849986e-02, 2.56515621e-01, 8.20849986e-02,\n",
       "       2.05212497e-01, 6.68009429e-02, 8.20849986e-02, 2.05212497e-01,\n",
       "       2.05212497e-01, 2.05212497e-01, 1.33601886e-01, 8.20849986e-02,\n",
       "       8.20849986e-02, 8.20849986e-02, 2.56515621e-01, 8.20849986e-02,\n",
       "       8.20849986e-02, 8.20849986e-02, 8.20849986e-02, 8.20849986e-02,\n",
       "       2.05212497e-01, 2.13763017e-01, 1.33601886e-01, 2.05212497e-01,\n",
       "       8.20849986e-02, 8.20849986e-02, 2.05212497e-01, 2.56515621e-01,\n",
       "       8.20849986e-02, 2.05212497e-01, 8.20849986e-02, 2.13763017e-01,\n",
       "       2.56515621e-01, 9.94061650e-03, 8.20849986e-02, 2.05212497e-01,\n",
       "       2.05212497e-01, 2.05212497e-01, 8.20849986e-02, 2.56515621e-01,\n",
       "       2.05212497e-01, 2.56515621e-01, 8.20849986e-02, 8.20849986e-02,\n",
       "       2.56515621e-01, 1.33601886e-01, 2.05212497e-01, 8.20849986e-02,\n",
       "       2.05212497e-01, 2.56515621e-01, 2.05212497e-01, 2.05212497e-01,\n",
       "       8.20849986e-02, 2.05212497e-01, 8.20849986e-02, 9.94061650e-03,\n",
       "       2.05212497e-01, 8.20849986e-02, 8.20849986e-02, 2.56515621e-01,\n",
       "       2.05212497e-01, 2.05212497e-01, 2.05212497e-01, 2.05212497e-01,\n",
       "       2.78337262e-02, 1.33601886e-01, 2.05212497e-01, 2.13763017e-01,\n",
       "       2.05212497e-01, 8.20849986e-02, 8.20849986e-02, 2.05212497e-01,\n",
       "       2.56515621e-01, 2.05212497e-01, 2.05212497e-01, 2.13763017e-01,\n",
       "       2.56515621e-01, 2.56515621e-01, 2.05212497e-01, 2.05212497e-01,\n",
       "       2.05212497e-01, 8.20849986e-02, 2.56515621e-01, 2.13763017e-01,\n",
       "       2.05212497e-01, 8.20849986e-02, 8.20849986e-02, 2.13763017e-01,\n",
       "       2.56515621e-01, 2.05212497e-01, 2.56515621e-01, 8.20849986e-02,\n",
       "       8.20849986e-02, 2.05212497e-01, 2.05212497e-01, 2.05212497e-01,\n",
       "       2.13763017e-01, 2.56515621e-01, 6.68009429e-02, 2.05212497e-01,\n",
       "       8.20849986e-02, 1.33601886e-01, 2.05212497e-01, 2.56515621e-01,\n",
       "       6.68009429e-02, 8.20849986e-02, 2.05212497e-01, 2.56515621e-01,\n",
       "       2.05212497e-01, 2.13763017e-01, 2.05212497e-01, 9.94061650e-03,\n",
       "       2.56515621e-01, 2.56515621e-01, 2.56515621e-01, 2.13763017e-01,\n",
       "       2.05212497e-01, 2.05212497e-01, 2.05212497e-01, 2.05212497e-01,\n",
       "       8.20849986e-02, 2.05212497e-01, 2.56515621e-01, 9.94061650e-03,\n",
       "       8.20849986e-02, 2.05212497e-01, 8.20849986e-02, 8.20849986e-02,\n",
       "       6.68009429e-02, 1.33601886e-01, 2.05212497e-01, 6.68009429e-02,\n",
       "       2.05212497e-01, 2.05212497e-01, 2.56515621e-01, 1.33601886e-01,\n",
       "       2.05212497e-01, 2.13763017e-01, 2.78337262e-02, 8.20849986e-02,\n",
       "       2.56515621e-01, 2.13763017e-01, 1.33601886e-01, 2.13763017e-01,\n",
       "       2.78337262e-02, 2.13763017e-01, 2.05212497e-01, 2.05212497e-01,\n",
       "       8.20849986e-02, 2.05212497e-01, 8.20849986e-02, 8.20849986e-02,\n",
       "       2.13763017e-01, 2.78337262e-02, 2.05212497e-01, 8.20849986e-02,\n",
       "       2.05212497e-01, 6.68009429e-02, 8.20849986e-02, 2.05212497e-01,\n",
       "       8.20849986e-02, 2.13763017e-01, 8.20849986e-02, 8.20849986e-02,\n",
       "       8.20849986e-02, 2.05212497e-01, 8.20849986e-02, 2.78337262e-02,\n",
       "       2.05212497e-01, 8.20849986e-02, 2.56515621e-01, 8.20849986e-02,\n",
       "       8.20849986e-02, 8.20849986e-02, 8.20849986e-02, 2.05212497e-01,\n",
       "       8.20849986e-02, 2.05212497e-01, 8.20849986e-02, 2.13763017e-01,\n",
       "       1.33601886e-01, 2.05212497e-01, 8.20849986e-02, 1.33601886e-01,\n",
       "       8.62900738e-04, 2.56515621e-01, 1.33601886e-01, 2.13763017e-01,\n",
       "       2.78337262e-02, 8.20849986e-02, 1.33601886e-01, 2.05212497e-01,\n",
       "       2.05212497e-01, 8.20849986e-02, 8.20849986e-02, 8.20849986e-02,\n",
       "       8.20849986e-02, 2.05212497e-01, 8.20849986e-02, 8.20849986e-02,\n",
       "       2.56515621e-01, 2.56515621e-01, 2.05212497e-01, 1.33601886e-01,\n",
       "       8.20849986e-02, 2.13763017e-01, 8.20849986e-02, 2.05212497e-01,\n",
       "       2.56515621e-01, 2.56515621e-01, 8.20849986e-02, 9.94061650e-03,\n",
       "       2.05212497e-01, 8.20849986e-02, 8.62900738e-04, 2.05212497e-01,\n",
       "       2.56515621e-01, 2.05212497e-01, 2.05212497e-01, 8.20849986e-02,\n",
       "       2.56515621e-01, 8.62900738e-04, 9.94061650e-03, 1.33601886e-01,\n",
       "       2.05212497e-01, 2.56515621e-01, 2.13763017e-01, 2.56515621e-01,\n",
       "       2.05212497e-01, 6.68009429e-02, 2.05212497e-01, 8.20849986e-02,\n",
       "       2.05212497e-01, 3.10644266e-03, 2.13763017e-01, 1.33601886e-01,\n",
       "       2.05212497e-01, 2.05212497e-01, 8.20849986e-02, 2.56515621e-01,\n",
       "       8.20849986e-02, 6.68009429e-02, 2.78337262e-02, 8.20849986e-02,\n",
       "       2.05212497e-01, 6.68009429e-02, 2.05212497e-01, 9.94061650e-03,\n",
       "       2.05212497e-01, 2.13763017e-01, 1.33601886e-01, 1.33601886e-01,\n",
       "       2.05212497e-01, 2.78337262e-02, 6.68009429e-02, 2.56515621e-01,\n",
       "       2.56515621e-01, 2.56515621e-01, 8.20849986e-02, 6.68009429e-02,\n",
       "       2.78337262e-02, 2.05212497e-01, 8.20849986e-02, 8.20849986e-02,\n",
       "       2.56515621e-01, 8.20849986e-02, 1.33601886e-01, 8.20849986e-02,\n",
       "       2.13763017e-01, 6.68009429e-02, 2.56515621e-01, 2.05212497e-01,\n",
       "       8.20849986e-02, 8.20849986e-02, 8.20849986e-02, 1.33601886e-01,\n",
       "       8.20849986e-02, 2.13763017e-01, 8.20849986e-02, 2.13763017e-01,\n",
       "       8.20849986e-02, 2.05212497e-01, 2.05212497e-01, 2.78337262e-02,\n",
       "       1.33601886e-01, 2.05212497e-01, 8.20849986e-02, 2.05212497e-01,\n",
       "       1.33601886e-01, 8.20849986e-02, 8.20849986e-02, 1.33601886e-01,\n",
       "       2.56515621e-01, 2.56515621e-01, 8.20849986e-02, 2.05212497e-01,\n",
       "       2.05212497e-01, 2.56515621e-01, 8.20849986e-02, 8.20849986e-02,\n",
       "       2.05212497e-01, 2.56515621e-01, 2.05212497e-01, 1.33601886e-01,\n",
       "       1.33601886e-01, 2.13763017e-01, 6.68009429e-02, 2.56515621e-01,\n",
       "       2.56515621e-01, 2.56515621e-01, 2.05212497e-01, 2.05212497e-01,\n",
       "       2.05212497e-01, 2.56515621e-01, 8.20849986e-02, 2.05212497e-01,\n",
       "       8.20849986e-02, 2.05212497e-01, 8.20849986e-02, 9.94061650e-03,\n",
       "       2.05212497e-01, 8.20849986e-02, 6.68009429e-02, 2.05212497e-01,\n",
       "       2.05212497e-01, 1.33601886e-01, 2.56515621e-01, 8.20849986e-02,\n",
       "       2.56515621e-01, 2.05212497e-01, 2.05212497e-01, 2.05212497e-01,\n",
       "       2.05212497e-01, 2.05212497e-01, 1.33601886e-01, 8.20849986e-02,\n",
       "       2.05212497e-01, 9.94061650e-03, 8.20849986e-02, 2.56515621e-01,\n",
       "       2.13763017e-01, 2.56515621e-01, 2.56515621e-01, 2.56515621e-01,\n",
       "       8.20849986e-02, 2.56515621e-01, 8.20849986e-02, 8.20849986e-02,\n",
       "       8.20849986e-02, 6.68009429e-02, 2.56515621e-01, 2.13763017e-01,\n",
       "       8.20849986e-02, 8.20849986e-02, 2.13763017e-01, 8.20849986e-02,\n",
       "       2.05212497e-01, 1.33601886e-01, 2.05212497e-01, 2.05212497e-01,\n",
       "       2.05212497e-01, 2.56515621e-01, 2.05212497e-01, 2.13763017e-01,\n",
       "       8.20849986e-02, 8.20849986e-02, 8.20849986e-02, 2.05212497e-01,\n",
       "       6.68009429e-02, 2.56515621e-01, 2.13763017e-01, 1.33601886e-01,\n",
       "       2.05212497e-01, 2.05212497e-01, 2.13763017e-01, 8.20849986e-02,\n",
       "       2.13763017e-01, 8.20849986e-02, 8.20849986e-02, 8.20849986e-02,\n",
       "       8.20849986e-02, 8.20849986e-02, 2.05212497e-01, 8.20849986e-02,\n",
       "       2.56515621e-01, 1.33601886e-01, 2.05212497e-01, 8.20849986e-02,\n",
       "       8.20849986e-02, 2.05212497e-01, 8.20849986e-02, 1.33601886e-01,\n",
       "       8.20849986e-02])"
      ]
     },
     "execution_count": 26,
     "metadata": {},
     "output_type": "execute_result"
    }
   ],
   "source": [
    "reviews = listing.reviews_per_month.dropna().round()\n",
    "rv.pmf(reviews)"
   ]
  },
  {
   "cell_type": "code",
   "execution_count": 28,
   "metadata": {},
   "outputs": [
    {
     "data": {
      "text/plain": [
       "<matplotlib.lines.Line2D at 0x7fd7387ab0b8>"
      ]
     },
     "execution_count": 28,
     "metadata": {},
     "output_type": "execute_result"
    },
    {
     "data": {
      "image/png": "[encoded data removed]",
      "text/plain": [
       "<Figure size 432x288 with 1 Axes>"
      ]
     },
     "metadata": {
      "needs_background": "light"
     },
     "output_type": "display_data"
    }
   ],
   "source": [
    "reviews.plot.kde()\n",
    "plt.xlabel('Reviews per Month')\n",
    "plt.ylabel('Density')\n",
    "plt.title('Reviews per Month Distribution')\n",
    "plt.axvline(reviews.mean(), c='r')"
   ]
  },
  {
   "cell_type": "code",
   "execution_count": 30,
   "metadata": {},
   "outputs": [
    {
     "data": {
      "text/plain": [
       "0.0"
      ]
     },
     "execution_count": 30,
     "metadata": {},
     "output_type": "execute_result"
    }
   ],
   "source": [
    "# poisson helps us make inferences. need to \"learn\" or estimate single parameter\n",
    "# any likelihood of 0 makes it go to 0.\n",
    "stats.poisson.pmf(reviews, 5).prod()"
   ]
  },
  {
   "cell_type": "code",
   "execution_count": 31,
   "metadata": {},
   "outputs": [
    {
     "data": {
      "text/plain": [
       "-2994.1948872410912"
      ]
     },
     "execution_count": 31,
     "metadata": {},
     "output_type": "execute_result"
    }
   ],
   "source": [
    "# log likelihood to the rescue!!\n",
    "np.log(stats.poisson.pmf(reviews, 5)).sum()"
   ]
  },
  {
   "cell_type": "code",
   "execution_count": 32,
   "metadata": {},
   "outputs": [
    {
     "data": {
      "text/plain": [
       "True"
      ]
     },
     "execution_count": 32,
     "metadata": {},
     "output_type": "execute_result"
    }
   ],
   "source": [
    "# to prove that the relative order stays the same\n",
    "order = stats.poisson.pmf(reviews, 5).argsort()\n",
    "log_order = np.log(stats.poisson.pmf(reviews, 5)).argsort()\n",
    "(order == log_order).all()"
   ]
  },
  {
   "cell_type": "code",
   "execution_count": 33,
   "metadata": {},
   "outputs": [
    {
     "data": {
      "text/plain": [
       "Text(0.5, 1.0, 'Poisson MLE of Reviews per Month')"
      ]
     },
     "execution_count": 33,
     "metadata": {},
     "output_type": "execute_result"
    },
    {
     "data": {
      "image/png": "[encoded data removed]",
      "text/plain": [
       "<Figure size 432x288 with 1 Axes>"
      ]
     },
     "metadata": {
      "needs_background": "light"
     },
     "output_type": "display_data"
    }
   ],
   "source": [
    "likelihoods = []\n",
    "\n",
    "lambdas = np.linspace(0.0001, 10, 100)\n",
    "\n",
    "for lam in lambdas:\n",
    "    likelihoods.append(np.log(stats.poisson.pmf(reviews, lam)).sum())\n",
    "\n",
    "lambda_max = lambdas[np.argmax(likelihoods)]\n",
    "\n",
    "fig = plt.figure()\n",
    "plt.plot(lambdas, likelihoods, zorder=1)\n",
    "plt.scatter([lambda_max], [np.max(likelihoods)], color='red', zorder=2)\n",
    "plt.vlines(lambda_max, ymax=np.max(likelihoods),ymin=np.min(likelihoods), color=\"red\", linestyle=\"dashed\")\n",
    "plt.text(lambda_max + 0.3, np.min(likelihoods), '$\\lambda_{{max}}$ = {0:.2f}'.format(lambda_max))\n",
    "plt.xlabel('$\\lambda$')\n",
    "plt.ylabel('Log Likelihood')\n",
    "plt.title('Poisson MLE of Reviews per Month')"
   ]
  },
  {
   "cell_type": "code",
   "execution_count": 34,
   "metadata": {},
   "outputs": [
    {
     "name": "stdout",
     "output_type": "stream",
     "text": [
      "1.6624277456647398\n"
     ]
    },
    {
     "data": {
      "text/plain": [
       "1.6162454545454545"
      ]
     },
     "execution_count": 34,
     "metadata": {},
     "output_type": "execute_result"
    }
   ],
   "source": [
    "print(reviews.mean())\n",
    "lambda_max"
   ]
  },
  {
   "cell_type": "code",
   "execution_count": 35,
   "metadata": {},
   "outputs": [
    {
     "name": "stderr",
     "output_type": "stream",
     "text": [
      "/Users/jonathandinu/anaconda3/lib/python3.7/site-packages/pandas/plotting/_matplotlib/hist.py:62: MatplotlibDeprecationWarning: \n",
      "The 'normed' kwarg was deprecated in Matplotlib 2.1 and will be removed in 3.1. Use 'density' instead.\n",
      "  n, bins, patches = ax.hist(y, bins=bins, bottom=bottom, **kwds)\n"
     ]
    },
    {
     "data": {
      "text/plain": [
       "Text(0.5, 1.0, 'Poisson MLE versus Empirical Data')"
      ]
     },
     "execution_count": 35,
     "metadata": {},
     "output_type": "execute_result"
    },
    {
     "data": {
      "image/png": "[encoded data removed]",
      "text/plain": [
       "<Figure size 432x288 with 1 Axes>"
      ]
     },
     "metadata": {
      "needs_background": "light"
     },
     "output_type": "display_data"
    }
   ],
   "source": [
    "# rounding errors?\n",
    "reviews.plot.hist(normed=True, label=\"Data Distribution\", bins=[0.0, 0.99, 1.99, 2.99, 3.99, 4.99, 5.99, 6.99, 7.99, 8.99, 9.99])\n",
    "x = np.arange(0, 12)\n",
    "plt.plot(x + 0.5, stats.poisson.pmf(x, lambda_max), label='MLE')\n",
    "plt.legend()\n",
    "plt.xlabel('k')\n",
    "plt.title('Poisson MLE versus Empirical Data')\n"
   ]
  },
  {
   "cell_type": "code",
   "execution_count": 36,
   "metadata": {},
   "outputs": [
    {
     "data": {
      "text/plain": [
       "[<matplotlib.lines.Line2D at 0x7fd71a5412e8>]"
      ]
     },
     "execution_count": 36,
     "metadata": {},
     "output_type": "execute_result"
    },
    {
     "data": {
      "image/png": "[encoded data removed]",
      "text/plain": [
       "<Figure size 432x288 with 1 Axes>"
      ]
     },
     "metadata": {
      "needs_background": "light"
     },
     "output_type": "display_data"
    }
   ],
   "source": [
    "from scipy.stats import probplot\n",
    "\n",
    "probplot(reviews, dist=stats.poisson(lambda_max), plot=plt);\n",
    "plt.plot(np.arange(8), np.arange(8), c='black', linestyle='--')"
   ]
  },
  {
   "cell_type": "code",
   "execution_count": 40,
   "metadata": {},
   "outputs": [
    {
     "data": {
      "text/html": [
       "<div>\n",
       "<style scoped>\n",
       "    .dataframe tbody tr th:only-of-type {\n",
       "        vertical-align: middle;\n",
       "    }\n",
       "\n",
       "    .dataframe tbody tr th {\n",
       "        vertical-align: top;\n",
       "    }\n",
       "\n",
       "    .dataframe thead th {\n",
       "        text-align: right;\n",
       "    }\n",
       "</style>\n",
       "<table border=\"1\" class=\"dataframe\">\n",
       "  <thead>\n",
       "    <tr style=\"text-align: right;\">\n",
       "      <th></th>\n",
       "      <th>year</th>\n",
       "      <th>q1_gdp_growth</th>\n",
       "      <th>q2_gdp_growth</th>\n",
       "      <th>net_approv</th>\n",
       "      <th>two_terms</th>\n",
       "      <th>incumbent_vote_share</th>\n",
       "    </tr>\n",
       "  </thead>\n",
       "  <tbody>\n",
       "    <tr>\n",
       "      <td>0</td>\n",
       "      <td>2012</td>\n",
       "      <td>2.0</td>\n",
       "      <td>1.3</td>\n",
       "      <td>-0.8</td>\n",
       "      <td>0</td>\n",
       "      <td>NaN</td>\n",
       "    </tr>\n",
       "    <tr>\n",
       "      <td>1</td>\n",
       "      <td>2008</td>\n",
       "      <td>-1.8</td>\n",
       "      <td>1.3</td>\n",
       "      <td>-37.0</td>\n",
       "      <td>1</td>\n",
       "      <td>46.3</td>\n",
       "    </tr>\n",
       "    <tr>\n",
       "      <td>2</td>\n",
       "      <td>2004</td>\n",
       "      <td>2.7</td>\n",
       "      <td>2.6</td>\n",
       "      <td>-0.5</td>\n",
       "      <td>0</td>\n",
       "      <td>51.2</td>\n",
       "    </tr>\n",
       "    <tr>\n",
       "      <td>3</td>\n",
       "      <td>2000</td>\n",
       "      <td>1.1</td>\n",
       "      <td>8.0</td>\n",
       "      <td>19.5</td>\n",
       "      <td>1</td>\n",
       "      <td>50.3</td>\n",
       "    </tr>\n",
       "    <tr>\n",
       "      <td>4</td>\n",
       "      <td>1996</td>\n",
       "      <td>2.8</td>\n",
       "      <td>7.1</td>\n",
       "      <td>15.5</td>\n",
       "      <td>0</td>\n",
       "      <td>54.7</td>\n",
       "    </tr>\n",
       "    <tr>\n",
       "      <td>5</td>\n",
       "      <td>1992</td>\n",
       "      <td>4.5</td>\n",
       "      <td>4.3</td>\n",
       "      <td>-18.0</td>\n",
       "      <td>1</td>\n",
       "      <td>46.5</td>\n",
       "    </tr>\n",
       "    <tr>\n",
       "      <td>6</td>\n",
       "      <td>1988</td>\n",
       "      <td>2.1</td>\n",
       "      <td>5.2</td>\n",
       "      <td>10.0</td>\n",
       "      <td>1</td>\n",
       "      <td>53.9</td>\n",
       "    </tr>\n",
       "    <tr>\n",
       "      <td>7</td>\n",
       "      <td>1984</td>\n",
       "      <td>8.0</td>\n",
       "      <td>7.1</td>\n",
       "      <td>20.0</td>\n",
       "      <td>0</td>\n",
       "      <td>59.2</td>\n",
       "    </tr>\n",
       "    <tr>\n",
       "      <td>8</td>\n",
       "      <td>1980</td>\n",
       "      <td>1.3</td>\n",
       "      <td>-7.9</td>\n",
       "      <td>-21.7</td>\n",
       "      <td>0</td>\n",
       "      <td>44.7</td>\n",
       "    </tr>\n",
       "    <tr>\n",
       "      <td>9</td>\n",
       "      <td>1976</td>\n",
       "      <td>9.4</td>\n",
       "      <td>3.0</td>\n",
       "      <td>5.0</td>\n",
       "      <td>1</td>\n",
       "      <td>48.9</td>\n",
       "    </tr>\n",
       "    <tr>\n",
       "      <td>10</td>\n",
       "      <td>1972</td>\n",
       "      <td>7.3</td>\n",
       "      <td>9.8</td>\n",
       "      <td>26.0</td>\n",
       "      <td>0</td>\n",
       "      <td>61.8</td>\n",
       "    </tr>\n",
       "    <tr>\n",
       "      <td>11</td>\n",
       "      <td>1968</td>\n",
       "      <td>8.5</td>\n",
       "      <td>7.0</td>\n",
       "      <td>-5.0</td>\n",
       "      <td>1</td>\n",
       "      <td>49.6</td>\n",
       "    </tr>\n",
       "    <tr>\n",
       "      <td>12</td>\n",
       "      <td>1964</td>\n",
       "      <td>9.3</td>\n",
       "      <td>4.7</td>\n",
       "      <td>60.3</td>\n",
       "      <td>0</td>\n",
       "      <td>61.3</td>\n",
       "    </tr>\n",
       "    <tr>\n",
       "      <td>13</td>\n",
       "      <td>1960</td>\n",
       "      <td>9.3</td>\n",
       "      <td>-1.9</td>\n",
       "      <td>37.0</td>\n",
       "      <td>1</td>\n",
       "      <td>49.9</td>\n",
       "    </tr>\n",
       "    <tr>\n",
       "      <td>14</td>\n",
       "      <td>1956</td>\n",
       "      <td>-1.8</td>\n",
       "      <td>3.2</td>\n",
       "      <td>53.5</td>\n",
       "      <td>0</td>\n",
       "      <td>57.8</td>\n",
       "    </tr>\n",
       "    <tr>\n",
       "      <td>15</td>\n",
       "      <td>1952</td>\n",
       "      <td>4.1</td>\n",
       "      <td>0.4</td>\n",
       "      <td>-27.0</td>\n",
       "      <td>1</td>\n",
       "      <td>44.5</td>\n",
       "    </tr>\n",
       "    <tr>\n",
       "      <td>16</td>\n",
       "      <td>1948</td>\n",
       "      <td>6.5</td>\n",
       "      <td>7.5</td>\n",
       "      <td>-6.0</td>\n",
       "      <td>1</td>\n",
       "      <td>52.4</td>\n",
       "    </tr>\n",
       "  </tbody>\n",
       "</table>\n",
       "</div>"
      ],
      "text/plain": [
       "    year  q1_gdp_growth  q2_gdp_growth  net_approv  two_terms  \\\n",
       "0   2012            2.0            1.3        -0.8          0   \n",
       "1   2008           -1.8            1.3       -37.0          1   \n",
       "2   2004            2.7            2.6        -0.5          0   \n",
       "3   2000            1.1            8.0        19.5          1   \n",
       "4   1996            2.8            7.1        15.5          0   \n",
       "5   1992            4.5            4.3       -18.0          1   \n",
       "6   1988            2.1            5.2        10.0          1   \n",
       "7   1984            8.0            7.1        20.0          0   \n",
       "8   1980            1.3           -7.9       -21.7          0   \n",
       "9   1976            9.4            3.0         5.0          1   \n",
       "10  1972            7.3            9.8        26.0          0   \n",
       "11  1968            8.5            7.0        -5.0          1   \n",
       "12  1964            9.3            4.7        60.3          0   \n",
       "13  1960            9.3           -1.9        37.0          1   \n",
       "14  1956           -1.8            3.2        53.5          0   \n",
       "15  1952            4.1            0.4       -27.0          1   \n",
       "16  1948            6.5            7.5        -6.0          1   \n",
       "\n",
       "    incumbent_vote_share  \n",
       "0                    NaN  \n",
       "1                   46.3  \n",
       "2                   51.2  \n",
       "3                   50.3  \n",
       "4                   54.7  \n",
       "5                   46.5  \n",
       "6                   53.9  \n",
       "7                   59.2  \n",
       "8                   44.7  \n",
       "9                   48.9  \n",
       "10                  61.8  \n",
       "11                  49.6  \n",
       "12                  61.3  \n",
       "13                  49.9  \n",
       "14                  57.8  \n",
       "15                  44.5  \n",
       "16                  52.4  "
      ]
     },
     "execution_count": 40,
     "metadata": {},
     "output_type": "execute_result"
    }
   ],
   "source": [
    "import seaborn as sns\n",
    "\n",
    "\n",
    "# linear regression\n",
    "import pandas as pd\n",
    "votes = pd.read_csv('data/historical_election_data.csv')\n",
    "votes.head(20)"
   ]
  },
  {
   "cell_type": "code",
   "execution_count": 41,
   "metadata": {},
   "outputs": [
    {
     "data": {
      "text/plain": [
       "year                    2012.0\n",
       "q1_gdp_growth              2.0\n",
       "q2_gdp_growth              1.3\n",
       "net_approv                -0.8\n",
       "two_terms                  0.0\n",
       "incumbent_vote_share       NaN\n",
       "Name: 0, dtype: float64"
      ]
     },
     "execution_count": 41,
     "metadata": {},
     "output_type": "execute_result"
    }
   ],
   "source": [
    "forecast = votes.iloc[0, :]\n",
    "forecast"
   ]
  },
  {
   "cell_type": "code",
   "execution_count": 42,
   "metadata": {},
   "outputs": [
    {
     "data": {
      "text/html": [
       "<div>\n",
       "<style scoped>\n",
       "    .dataframe tbody tr th:only-of-type {\n",
       "        vertical-align: middle;\n",
       "    }\n",
       "\n",
       "    .dataframe tbody tr th {\n",
       "        vertical-align: top;\n",
       "    }\n",
       "\n",
       "    .dataframe thead th {\n",
       "        text-align: right;\n",
       "    }\n",
       "</style>\n",
       "<table border=\"1\" class=\"dataframe\">\n",
       "  <thead>\n",
       "    <tr style=\"text-align: right;\">\n",
       "      <th></th>\n",
       "      <th>q1_gdp_growth</th>\n",
       "      <th>q2_gdp_growth</th>\n",
       "      <th>net_approv</th>\n",
       "      <th>two_terms</th>\n",
       "    </tr>\n",
       "  </thead>\n",
       "  <tbody>\n",
       "    <tr>\n",
       "      <td>1</td>\n",
       "      <td>-1.8</td>\n",
       "      <td>1.3</td>\n",
       "      <td>-37.0</td>\n",
       "      <td>1</td>\n",
       "    </tr>\n",
       "    <tr>\n",
       "      <td>2</td>\n",
       "      <td>2.7</td>\n",
       "      <td>2.6</td>\n",
       "      <td>-0.5</td>\n",
       "      <td>0</td>\n",
       "    </tr>\n",
       "    <tr>\n",
       "      <td>3</td>\n",
       "      <td>1.1</td>\n",
       "      <td>8.0</td>\n",
       "      <td>19.5</td>\n",
       "      <td>1</td>\n",
       "    </tr>\n",
       "    <tr>\n",
       "      <td>4</td>\n",
       "      <td>2.8</td>\n",
       "      <td>7.1</td>\n",
       "      <td>15.5</td>\n",
       "      <td>0</td>\n",
       "    </tr>\n",
       "    <tr>\n",
       "      <td>5</td>\n",
       "      <td>4.5</td>\n",
       "      <td>4.3</td>\n",
       "      <td>-18.0</td>\n",
       "      <td>1</td>\n",
       "    </tr>\n",
       "    <tr>\n",
       "      <td>6</td>\n",
       "      <td>2.1</td>\n",
       "      <td>5.2</td>\n",
       "      <td>10.0</td>\n",
       "      <td>1</td>\n",
       "    </tr>\n",
       "    <tr>\n",
       "      <td>7</td>\n",
       "      <td>8.0</td>\n",
       "      <td>7.1</td>\n",
       "      <td>20.0</td>\n",
       "      <td>0</td>\n",
       "    </tr>\n",
       "    <tr>\n",
       "      <td>8</td>\n",
       "      <td>1.3</td>\n",
       "      <td>-7.9</td>\n",
       "      <td>-21.7</td>\n",
       "      <td>0</td>\n",
       "    </tr>\n",
       "    <tr>\n",
       "      <td>9</td>\n",
       "      <td>9.4</td>\n",
       "      <td>3.0</td>\n",
       "      <td>5.0</td>\n",
       "      <td>1</td>\n",
       "    </tr>\n",
       "    <tr>\n",
       "      <td>10</td>\n",
       "      <td>7.3</td>\n",
       "      <td>9.8</td>\n",
       "      <td>26.0</td>\n",
       "      <td>0</td>\n",
       "    </tr>\n",
       "    <tr>\n",
       "      <td>11</td>\n",
       "      <td>8.5</td>\n",
       "      <td>7.0</td>\n",
       "      <td>-5.0</td>\n",
       "      <td>1</td>\n",
       "    </tr>\n",
       "    <tr>\n",
       "      <td>12</td>\n",
       "      <td>9.3</td>\n",
       "      <td>4.7</td>\n",
       "      <td>60.3</td>\n",
       "      <td>0</td>\n",
       "    </tr>\n",
       "    <tr>\n",
       "      <td>13</td>\n",
       "      <td>9.3</td>\n",
       "      <td>-1.9</td>\n",
       "      <td>37.0</td>\n",
       "      <td>1</td>\n",
       "    </tr>\n",
       "    <tr>\n",
       "      <td>14</td>\n",
       "      <td>-1.8</td>\n",
       "      <td>3.2</td>\n",
       "      <td>53.5</td>\n",
       "      <td>0</td>\n",
       "    </tr>\n",
       "    <tr>\n",
       "      <td>15</td>\n",
       "      <td>4.1</td>\n",
       "      <td>0.4</td>\n",
       "      <td>-27.0</td>\n",
       "      <td>1</td>\n",
       "    </tr>\n",
       "    <tr>\n",
       "      <td>16</td>\n",
       "      <td>6.5</td>\n",
       "      <td>7.5</td>\n",
       "      <td>-6.0</td>\n",
       "      <td>1</td>\n",
       "    </tr>\n",
       "  </tbody>\n",
       "</table>\n",
       "</div>"
      ],
      "text/plain": [
       "    q1_gdp_growth  q2_gdp_growth  net_approv  two_terms\n",
       "1            -1.8            1.3       -37.0          1\n",
       "2             2.7            2.6        -0.5          0\n",
       "3             1.1            8.0        19.5          1\n",
       "4             2.8            7.1        15.5          0\n",
       "5             4.5            4.3       -18.0          1\n",
       "6             2.1            5.2        10.0          1\n",
       "7             8.0            7.1        20.0          0\n",
       "8             1.3           -7.9       -21.7          0\n",
       "9             9.4            3.0         5.0          1\n",
       "10            7.3            9.8        26.0          0\n",
       "11            8.5            7.0        -5.0          1\n",
       "12            9.3            4.7        60.3          0\n",
       "13            9.3           -1.9        37.0          1\n",
       "14           -1.8            3.2        53.5          0\n",
       "15            4.1            0.4       -27.0          1\n",
       "16            6.5            7.5        -6.0          1"
      ]
     },
     "execution_count": 42,
     "metadata": {},
     "output_type": "execute_result"
    }
   ],
   "source": [
    "features = votes.iloc[1:,1:-1]\n",
    "features.head(20)"
   ]
  },
  {
   "cell_type": "code",
   "execution_count": 43,
   "metadata": {},
   "outputs": [
    {
     "data": {
      "image/png": "[encoded data removed]",
      "text/plain": [
       "<Figure size 360x360 with 1 Axes>"
      ]
     },
     "metadata": {
      "needs_background": "light"
     },
     "output_type": "display_data"
    }
   ],
   "source": [
    "# notice it can actually handle missing data in the output\n",
    "sns.lmplot(x=\"net_approv\", y=\"incumbent_vote_share\", data=votes);"
   ]
  },
  {
   "cell_type": "code",
   "execution_count": 44,
   "metadata": {},
   "outputs": [
    {
     "data": {
      "image/png": "[encoded data removed]",
      "text/plain": [
       "<Figure size 360x360 with 1 Axes>"
      ]
     },
     "metadata": {
      "needs_background": "light"
     },
     "output_type": "display_data"
    }
   ],
   "source": [
    "# much more uncertainty. we can see the general trend but we are much less confident\n",
    "# in whether or no thattrend will hold.\n",
    "sns.lmplot(x=\"q1_gdp_growth\", y=\"incumbent_vote_share\", data=votes);"
   ]
  },
  {
   "cell_type": "code",
   "execution_count": 45,
   "metadata": {},
   "outputs": [
    {
     "data": {
      "image/png": "[encoded data removed]",
      "text/plain": [
       "<Figure size 360x360 with 1 Axes>"
      ]
     },
     "metadata": {
      "needs_background": "light"
     },
     "output_type": "display_data"
    }
   ],
   "source": [
    "# again, a slightly more related plot but still uncertainty\n",
    "sns.lmplot(x=\"q2_gdp_growth\", y=\"incumbent_vote_share\", data=votes);"
   ]
  },
  {
   "cell_type": "code",
   "execution_count": 46,
   "metadata": {},
   "outputs": [
    {
     "name": "stderr",
     "output_type": "stream",
     "text": [
      "/Users/jonathandinu/anaconda3/lib/python3.7/site-packages/seaborn/axisgrid.py:2065: UserWarning: The `size` parameter has been renamed to `height`; pleaes update your code.\n",
      "  warnings.warn(msg, UserWarning)\n"
     ]
    },
    {
     "data": {
      "image/png": "[encoded data removed]",
      "text/plain": [
       "<Figure size 864x360 with 3 Axes>"
      ]
     },
     "metadata": {
      "needs_background": "light"
     },
     "output_type": "display_data"
    }
   ],
   "source": [
    "sns.pairplot(votes, x_vars=[\"net_approv\", \"q1_gdp_growth\", \"q2_gdp_growth\"], y_vars=[\"incumbent_vote_share\"],\n",
    "             size=5, aspect=.8, kind=\"reg\");"
   ]
  },
  {
   "cell_type": "code",
   "execution_count": 47,
   "metadata": {},
   "outputs": [
    {
     "data": {
      "image/png": "[encoded data removed]",
      "text/plain": [
       "<Figure size 924x360 with 3 Axes>"
      ]
     },
     "metadata": {
      "needs_background": "light"
     },
     "output_type": "display_data"
    }
   ],
   "source": [
    "# things to note here\n",
    "# not just \"steepness\" of line. also important is the uncertainty.\n",
    "sns.pairplot(votes, x_vars=[\"net_approv\", \"q1_gdp_growth\", \"q2_gdp_growth\"], y_vars=[\"incumbent_vote_share\"],\n",
    "             size=5, aspect=.8, kind=\"reg\", hue=\"two_terms\");"
   ]
  },
  {
   "cell_type": "code",
   "execution_count": 48,
   "metadata": {},
   "outputs": [
    {
     "data": {
      "text/html": [
       "<div>\n",
       "<style scoped>\n",
       "    .dataframe tbody tr th:only-of-type {\n",
       "        vertical-align: middle;\n",
       "    }\n",
       "\n",
       "    .dataframe tbody tr th {\n",
       "        vertical-align: top;\n",
       "    }\n",
       "\n",
       "    .dataframe thead th {\n",
       "        text-align: right;\n",
       "    }\n",
       "</style>\n",
       "<table border=\"1\" class=\"dataframe\">\n",
       "  <thead>\n",
       "    <tr style=\"text-align: right;\">\n",
       "      <th></th>\n",
       "      <th>year</th>\n",
       "      <th>q1_gdp_growth</th>\n",
       "      <th>q2_gdp_growth</th>\n",
       "      <th>net_approv</th>\n",
       "      <th>two_terms</th>\n",
       "      <th>incumbent_vote_share</th>\n",
       "    </tr>\n",
       "  </thead>\n",
       "  <tbody>\n",
       "    <tr>\n",
       "      <td>year</td>\n",
       "      <td>1.000000</td>\n",
       "      <td>-0.461035</td>\n",
       "      <td>-0.002868</td>\n",
       "      <td>-0.309823</td>\n",
       "      <td>-0.168394</td>\n",
       "      <td>-0.171521</td>\n",
       "    </tr>\n",
       "    <tr>\n",
       "      <td>q1_gdp_growth</td>\n",
       "      <td>-0.461035</td>\n",
       "      <td>1.000000</td>\n",
       "      <td>0.248287</td>\n",
       "      <td>0.290064</td>\n",
       "      <td>0.122997</td>\n",
       "      <td>0.267025</td>\n",
       "    </tr>\n",
       "    <tr>\n",
       "      <td>q2_gdp_growth</td>\n",
       "      <td>-0.002868</td>\n",
       "      <td>0.248287</td>\n",
       "      <td>1.000000</td>\n",
       "      <td>0.313867</td>\n",
       "      <td>0.045200</td>\n",
       "      <td>0.600298</td>\n",
       "    </tr>\n",
       "    <tr>\n",
       "      <td>net_approv</td>\n",
       "      <td>-0.309823</td>\n",
       "      <td>0.290064</td>\n",
       "      <td>0.313867</td>\n",
       "      <td>1.000000</td>\n",
       "      <td>-0.408758</td>\n",
       "      <td>0.801320</td>\n",
       "    </tr>\n",
       "    <tr>\n",
       "      <td>two_terms</td>\n",
       "      <td>-0.168394</td>\n",
       "      <td>0.122997</td>\n",
       "      <td>0.045200</td>\n",
       "      <td>-0.408758</td>\n",
       "      <td>1.000000</td>\n",
       "      <td>-0.607523</td>\n",
       "    </tr>\n",
       "    <tr>\n",
       "      <td>incumbent_vote_share</td>\n",
       "      <td>-0.171521</td>\n",
       "      <td>0.267025</td>\n",
       "      <td>0.600298</td>\n",
       "      <td>0.801320</td>\n",
       "      <td>-0.607523</td>\n",
       "      <td>1.000000</td>\n",
       "    </tr>\n",
       "  </tbody>\n",
       "</table>\n",
       "</div>"
      ],
      "text/plain": [
       "                          year  q1_gdp_growth  q2_gdp_growth  net_approv  \\\n",
       "year                  1.000000      -0.461035      -0.002868   -0.309823   \n",
       "q1_gdp_growth        -0.461035       1.000000       0.248287    0.290064   \n",
       "q2_gdp_growth        -0.002868       0.248287       1.000000    0.313867   \n",
       "net_approv           -0.309823       0.290064       0.313867    1.000000   \n",
       "two_terms            -0.168394       0.122997       0.045200   -0.408758   \n",
       "incumbent_vote_share -0.171521       0.267025       0.600298    0.801320   \n",
       "\n",
       "                      two_terms  incumbent_vote_share  \n",
       "year                  -0.168394             -0.171521  \n",
       "q1_gdp_growth          0.122997              0.267025  \n",
       "q2_gdp_growth          0.045200              0.600298  \n",
       "net_approv            -0.408758              0.801320  \n",
       "two_terms              1.000000             -0.607523  \n",
       "incumbent_vote_share  -0.607523              1.000000  "
      ]
     },
     "execution_count": 48,
     "metadata": {},
     "output_type": "execute_result"
    }
   ],
   "source": [
    "# all this really is is the correlation...\n",
    "# lets look at the raw correlation\n",
    "votes.corr()"
   ]
  },
  {
   "cell_type": "code",
   "execution_count": 53,
   "metadata": {},
   "outputs": [],
   "source": [
    "import statsmodels.api as sm\n",
    "import statsmodels.formula.api as smf\n",
    "import numpy as np"
   ]
  },
  {
   "cell_type": "code",
   "execution_count": 54,
   "metadata": {},
   "outputs": [
    {
     "name": "stdout",
     "output_type": "stream",
     "text": [
      "                             OLS Regression Results                             \n",
      "================================================================================\n",
      "Dep. Variable:     incumbent_vote_share   R-squared:                       0.905\n",
      "Model:                              OLS   Adj. R-squared:                  0.871\n",
      "Method:                   Least Squares   F-statistic:                     26.26\n",
      "Date:                  Fri, 22 Nov 2019   Prob (F-statistic):           1.41e-05\n",
      "Time:                          17:25:46   Log-Likelihood:                -30.973\n",
      "No. Observations:                    16   AIC:                             71.95\n",
      "Df Residuals:                        11   BIC:                             75.81\n",
      "Df Model:                             4                                         \n",
      "Covariance Type:              nonrobust                                         \n",
      "================================================================================\n",
      "                   coef    std err          t      P>|t|      [0.025      0.975]\n",
      "--------------------------------------------------------------------------------\n",
      "Intercept       51.1840      1.027     49.834      0.000      48.923      53.445\n",
      "q1_growth        0.0998      0.147      0.681      0.510      -0.223       0.422\n",
      "q2_growth        0.5689      0.127      4.475      0.001       0.289       0.849\n",
      "net_approval     0.0936      0.024      3.975      0.002       0.042       0.145\n",
      "two_terms       -4.5004      1.187     -3.793      0.003      -7.112      -1.889\n",
      "==============================================================================\n",
      "Omnibus:                        0.631   Durbin-Watson:                   1.651\n",
      "Prob(Omnibus):                  0.729   Jarque-Bera (JB):                0.622\n",
      "Skew:                           0.157   Prob(JB):                        0.733\n",
      "Kurtosis:                       2.087   Cond. No.                         77.3\n",
      "==============================================================================\n",
      "\n",
      "Warnings:\n",
      "[1] Standard Errors assume that the covariance matrix of the errors is correctly specified.\n"
     ]
    },
    {
     "name": "stderr",
     "output_type": "stream",
     "text": [
      "/Users/jonathandinu/anaconda3/lib/python3.7/site-packages/scipy/stats/stats.py:1450: UserWarning: kurtosistest only valid for n>=20 ... continuing anyway, n=16\n",
      "  \"anyway, n=%i\" % int(n))\n"
     ]
    }
   ],
   "source": [
    "votes.columns = ['year','q1_growth', 'q2_growth', 'net_approval', 'two_terms', 'incumbent_vote_share']\n",
    "\n",
    "# Fit regression model (using the natural log of one of the regressors)\n",
    "results = smf.ols('incumbent_vote_share ~ q1_growth + q2_growth + net_approval + two_terms', data=votes.iloc[1:]).fit()\n",
    "\n",
    "# Inspect the results\n",
    "print(results.summary())"
   ]
  },
  {
   "cell_type": "code",
   "execution_count": 55,
   "metadata": {},
   "outputs": [
    {
     "data": {
      "text/plain": [
       "0    52.048363\n",
       "dtype: float64"
      ]
     },
     "execution_count": 55,
     "metadata": {},
     "output_type": "execute_result"
    }
   ],
   "source": [
    "results.predict(dict(votes.iloc[0]))"
   ]
  },
  {
   "cell_type": "code",
   "execution_count": 57,
   "metadata": {},
   "outputs": [
    {
     "data": {
      "text/html": [
       "<div>\n",
       "<style scoped>\n",
       "    .dataframe tbody tr th:only-of-type {\n",
       "        vertical-align: middle;\n",
       "    }\n",
       "\n",
       "    .dataframe tbody tr th {\n",
       "        vertical-align: top;\n",
       "    }\n",
       "\n",
       "    .dataframe thead th {\n",
       "        text-align: right;\n",
       "    }\n",
       "</style>\n",
       "<table border=\"1\" class=\"dataframe\">\n",
       "  <thead>\n",
       "    <tr style=\"text-align: right;\">\n",
       "      <th></th>\n",
       "      <th>id</th>\n",
       "      <th>name</th>\n",
       "      <th>host_id</th>\n",
       "      <th>host_name</th>\n",
       "      <th>neighbourhood</th>\n",
       "      <th>latitude</th>\n",
       "      <th>longitude</th>\n",
       "      <th>room_type</th>\n",
       "      <th>price</th>\n",
       "      <th>minimum_nights</th>\n",
       "      <th>number_of_reviews</th>\n",
       "      <th>last_review</th>\n",
       "      <th>reviews_per_month</th>\n",
       "      <th>calculated_host_listings_count</th>\n",
       "      <th>availability_365</th>\n",
       "    </tr>\n",
       "  </thead>\n",
       "  <tbody>\n",
       "    <tr>\n",
       "      <td>0</td>\n",
       "      <td>2613909</td>\n",
       "      <td>Comfy family home,central location.</td>\n",
       "      <td>3962880</td>\n",
       "      <td>Soraya &amp; Shahin</td>\n",
       "      <td>Burnage</td>\n",
       "      <td>53.435477302000734</td>\n",
       "      <td>-2.198658584963349</td>\n",
       "      <td>Private room</td>\n",
       "      <td>30</td>\n",
       "      <td>1</td>\n",
       "      <td>23</td>\n",
       "      <td>2016-03-13</td>\n",
       "      <td>1.04</td>\n",
       "      <td>2</td>\n",
       "      <td>365</td>\n",
       "    </tr>\n",
       "    <tr>\n",
       "      <td>1</td>\n",
       "      <td>753374</td>\n",
       "      <td>Comfy Family Home, Central Location</td>\n",
       "      <td>3962880</td>\n",
       "      <td>Soraya &amp; Shahin</td>\n",
       "      <td>Burnage</td>\n",
       "      <td>53.435641670037484</td>\n",
       "      <td>-2.198358976664632</td>\n",
       "      <td>Private room</td>\n",
       "      <td>20</td>\n",
       "      <td>1</td>\n",
       "      <td>63</td>\n",
       "      <td>2015-12-20</td>\n",
       "      <td>1.53</td>\n",
       "      <td>2</td>\n",
       "      <td>0</td>\n",
       "    </tr>\n",
       "    <tr>\n",
       "      <td>2</td>\n",
       "      <td>8693211</td>\n",
       "      <td>Very comfortable double in Overlea</td>\n",
       "      <td>45641916</td>\n",
       "      <td>Leah Olwen</td>\n",
       "      <td>Burnage</td>\n",
       "      <td>53.4262194104934</td>\n",
       "      <td>-2.206232792525484</td>\n",
       "      <td>Private room</td>\n",
       "      <td>34</td>\n",
       "      <td>1</td>\n",
       "      <td>16</td>\n",
       "      <td>2016-03-17</td>\n",
       "      <td>2.54</td>\n",
       "      <td>1</td>\n",
       "      <td>141</td>\n",
       "    </tr>\n",
       "    <tr>\n",
       "      <td>3</td>\n",
       "      <td>2926014</td>\n",
       "      <td>Nice Double Ensuite w/Parking.</td>\n",
       "      <td>14940107</td>\n",
       "      <td>Ellie</td>\n",
       "      <td>Burnage</td>\n",
       "      <td>53.421159373169715</td>\n",
       "      <td>-2.212175840602709</td>\n",
       "      <td>Private room</td>\n",
       "      <td>30</td>\n",
       "      <td>1</td>\n",
       "      <td>26</td>\n",
       "      <td>2016-03-30</td>\n",
       "      <td>1.29</td>\n",
       "      <td>1</td>\n",
       "      <td>338</td>\n",
       "    </tr>\n",
       "    <tr>\n",
       "      <td>4</td>\n",
       "      <td>10379829</td>\n",
       "      <td>3 bedroom house in Burnage</td>\n",
       "      <td>16697099</td>\n",
       "      <td>Mo</td>\n",
       "      <td>Burnage</td>\n",
       "      <td>53.4312016425226</td>\n",
       "      <td>-2.2067398105783944</td>\n",
       "      <td>Entire home/apt</td>\n",
       "      <td>351</td>\n",
       "      <td>1</td>\n",
       "      <td>1</td>\n",
       "      <td>2016-04-07</td>\n",
       "      <td>1</td>\n",
       "      <td>11</td>\n",
       "      <td>348</td>\n",
       "    </tr>\n",
       "    <tr>\n",
       "      <td>...</td>\n",
       "      <td>...</td>\n",
       "      <td>...</td>\n",
       "      <td>...</td>\n",
       "      <td>...</td>\n",
       "      <td>...</td>\n",
       "      <td>...</td>\n",
       "      <td>...</td>\n",
       "      <td>...</td>\n",
       "      <td>...</td>\n",
       "      <td>...</td>\n",
       "      <td>...</td>\n",
       "      <td>...</td>\n",
       "      <td>...</td>\n",
       "      <td>...</td>\n",
       "      <td>...</td>\n",
       "    </tr>\n",
       "    <tr>\n",
       "      <td>860</td>\n",
       "      <td>11570494</td>\n",
       "      <td>Manchester Central at Piccadilly</td>\n",
       "      <td>57596686</td>\n",
       "      <td>Sevag</td>\n",
       "      <td>City Centre</td>\n",
       "      <td>53.477539149078154</td>\n",
       "      <td>-2.234494276381365</td>\n",
       "      <td>Entire home/apt</td>\n",
       "      <td>100</td>\n",
       "      <td>2</td>\n",
       "      <td>0</td>\n",
       "      <td></td>\n",
       "      <td></td>\n",
       "      <td>1</td>\n",
       "      <td>321</td>\n",
       "    </tr>\n",
       "    <tr>\n",
       "      <td>861</td>\n",
       "      <td>4183136</td>\n",
       "      <td>Beautiful City Centre Apartment</td>\n",
       "      <td>10008381</td>\n",
       "      <td>Billie</td>\n",
       "      <td>City Centre</td>\n",
       "      <td>53.478585643713664</td>\n",
       "      <td>-2.2375213316544</td>\n",
       "      <td>Entire home/apt</td>\n",
       "      <td>70</td>\n",
       "      <td>1</td>\n",
       "      <td>23</td>\n",
       "      <td>2016-03-10</td>\n",
       "      <td>1.28</td>\n",
       "      <td>4</td>\n",
       "      <td>168</td>\n",
       "    </tr>\n",
       "    <tr>\n",
       "      <td>862</td>\n",
       "      <td>2060586</td>\n",
       "      <td>Piccadilly City Centre Apartment 56</td>\n",
       "      <td>4949917</td>\n",
       "      <td>My-Places</td>\n",
       "      <td>City Centre</td>\n",
       "      <td>53.4813105878181</td>\n",
       "      <td>-2.2349049209330527</td>\n",
       "      <td>Entire home/apt</td>\n",
       "      <td>431</td>\n",
       "      <td>3</td>\n",
       "      <td>0</td>\n",
       "      <td></td>\n",
       "      <td></td>\n",
       "      <td>10</td>\n",
       "      <td>259</td>\n",
       "    </tr>\n",
       "    <tr>\n",
       "      <td>863</td>\n",
       "      <td>7026108</td>\n",
       "      <td>Living space at Manchester City</td>\n",
       "      <td>31670396</td>\n",
       "      <td>Shah</td>\n",
       "      <td>City Centre</td>\n",
       "      <td>53.47577455043201</td>\n",
       "      <td>-2.2360710546567204</td>\n",
       "      <td>Shared room</td>\n",
       "      <td>25</td>\n",
       "      <td>1</td>\n",
       "      <td>34</td>\n",
       "      <td>2016-03-30</td>\n",
       "      <td>3.59</td>\n",
       "      <td>1</td>\n",
       "      <td>220</td>\n",
       "    </tr>\n",
       "    <tr>\n",
       "      <td>864</td>\n",
       "      <td>7102718</td>\n",
       "      <td>B13 Chorlton mill</td>\n",
       "      <td>37218941</td>\n",
       "      <td>Kaihua</td>\n",
       "      <td>City Centre</td>\n",
       "      <td>53.47342382549579</td>\n",
       "      <td>-2.2448642473328597</td>\n",
       "      <td>Shared room</td>\n",
       "      <td>25</td>\n",
       "      <td>1</td>\n",
       "      <td>0</td>\n",
       "      <td></td>\n",
       "      <td></td>\n",
       "      <td>1</td>\n",
       "      <td>0</td>\n",
       "    </tr>\n",
       "  </tbody>\n",
       "</table>\n",
       "<p>865 rows × 15 columns</p>\n",
       "</div>"
      ],
      "text/plain": [
       "           id                                 name   host_id        host_name  \\\n",
       "0     2613909  Comfy family home,central location.   3962880  Soraya & Shahin   \n",
       "1      753374  Comfy Family Home, Central Location   3962880  Soraya & Shahin   \n",
       "2     8693211   Very comfortable double in Overlea  45641916       Leah Olwen   \n",
       "3     2926014       Nice Double Ensuite w/Parking.  14940107            Ellie   \n",
       "4    10379829           3 bedroom house in Burnage  16697099               Mo   \n",
       "..        ...                                  ...       ...              ...   \n",
       "860  11570494     Manchester Central at Piccadilly  57596686            Sevag   \n",
       "861   4183136      Beautiful City Centre Apartment  10008381           Billie   \n",
       "862   2060586  Piccadilly City Centre Apartment 56   4949917        My-Places   \n",
       "863   7026108      Living space at Manchester City  31670396             Shah   \n",
       "864   7102718                    B13 Chorlton mill  37218941           Kaihua   \n",
       "\n",
       "    neighbourhood            latitude            longitude        room_type  \\\n",
       "0         Burnage  53.435477302000734   -2.198658584963349     Private room   \n",
       "1         Burnage  53.435641670037484   -2.198358976664632     Private room   \n",
       "2         Burnage    53.4262194104934   -2.206232792525484     Private room   \n",
       "3         Burnage  53.421159373169715   -2.212175840602709     Private room   \n",
       "4         Burnage    53.4312016425226  -2.2067398105783944  Entire home/apt   \n",
       "..            ...                 ...                  ...              ...   \n",
       "860   City Centre  53.477539149078154   -2.234494276381365  Entire home/apt   \n",
       "861   City Centre  53.478585643713664     -2.2375213316544  Entire home/apt   \n",
       "862   City Centre    53.4813105878181  -2.2349049209330527  Entire home/apt   \n",
       "863   City Centre   53.47577455043201  -2.2360710546567204      Shared room   \n",
       "864   City Centre   53.47342382549579  -2.2448642473328597      Shared room   \n",
       "\n",
       "    price minimum_nights number_of_reviews last_review reviews_per_month  \\\n",
       "0      30              1                23  2016-03-13              1.04   \n",
       "1      20              1                63  2015-12-20              1.53   \n",
       "2      34              1                16  2016-03-17              2.54   \n",
       "3      30              1                26  2016-03-30              1.29   \n",
       "4     351              1                 1  2016-04-07                 1   \n",
       "..    ...            ...               ...         ...               ...   \n",
       "860   100              2                 0                                 \n",
       "861    70              1                23  2016-03-10              1.28   \n",
       "862   431              3                 0                                 \n",
       "863    25              1                34  2016-03-30              3.59   \n",
       "864    25              1                 0                                 \n",
       "\n",
       "    calculated_host_listings_count availability_365  \n",
       "0                                2              365  \n",
       "1                                2                0  \n",
       "2                                1              141  \n",
       "3                                1              338  \n",
       "4                               11              348  \n",
       "..                             ...              ...  \n",
       "860                              1              321  \n",
       "861                              4              168  \n",
       "862                             10              259  \n",
       "863                              1              220  \n",
       "864                              1                0  \n",
       "\n",
       "[865 rows x 15 columns]"
      ]
     },
     "execution_count": 57,
     "metadata": {},
     "output_type": "execute_result"
    }
   ],
   "source": [
    "venues = pd.read_sql('venue', 'sqlite:///data/better_breakfasts_complete.db')\n",
    "listing = pd.read_sql('listing', 'sqlite:///data/better_breakfasts_complete.db')\n",
    "vicinity = pd.read_sql('vicinity', 'sqlite:///data/better_breakfasts_complete.db')\n",
    "\n",
    "features = listing[['minimum_nights', 'number_of_reviews', 'reviews_per_month', 'availability_365', 'calculated_host_listings_count','price']].replace('', 0).astype(float)\n",
    "listing"
   ]
  },
  {
   "cell_type": "code",
   "execution_count": 70,
   "metadata": {},
   "outputs": [],
   "source": [
    "listing['number_of_reviews'] = listing.number_of_reviews.astype(int)\n",
    "listing['reviews_per_month'] = listing.number_of_reviews.astype(float)"
   ]
  },
  {
   "cell_type": "code",
   "execution_count": 71,
   "metadata": {},
   "outputs": [],
   "source": [
    "listing['price'] = listing.price.astype(float)"
   ]
  },
  {
   "cell_type": "code",
   "execution_count": 72,
   "metadata": {},
   "outputs": [
    {
     "name": "stdout",
     "output_type": "stream",
     "text": [
      "                            OLS Regression Results                            \n",
      "==============================================================================\n",
      "Dep. Variable:                  price   R-squared:                       0.006\n",
      "Model:                            OLS   Adj. R-squared:                  0.005\n",
      "Method:                 Least Squares   F-statistic:                     5.543\n",
      "Date:                Fri, 22 Nov 2019   Prob (F-statistic):             0.0188\n",
      "Time:                        17:31:22   Log-Likelihood:                -5198.3\n",
      "No. Observations:                 865   AIC:                         1.040e+04\n",
      "Df Residuals:                     863   BIC:                         1.041e+04\n",
      "Df Model:                           1                                         \n",
      "Covariance Type:            nonrobust                                         \n",
      "=====================================================================================\n",
      "                        coef    std err          t      P>|t|      [0.025      0.975]\n",
      "-------------------------------------------------------------------------------------\n",
      "const                80.9223      3.867     20.926      0.000      73.333      88.512\n",
      "number_of_reviews    -0.2632      0.112     -2.354      0.019      -0.483      -0.044\n",
      "==============================================================================\n",
      "Omnibus:                      974.303   Durbin-Watson:                   1.730\n",
      "Prob(Omnibus):                  0.000   Jarque-Bera (JB):            72399.753\n",
      "Skew:                           5.508   Prob(JB):                         0.00\n",
      "Kurtosis:                      46.444   Cond. No.                         39.9\n",
      "==============================================================================\n",
      "\n",
      "Warnings:\n",
      "[1] Standard Errors assume that the covariance matrix of the errors is correctly specified.\n"
     ]
    }
   ],
   "source": [
    "X = sm.add_constant(listing['number_of_reviews'])\n",
    "y = listing.price\n",
    "model = sm.OLS(y, X)\n",
    "results = model.fit()\n",
    "print(results.summary())"
   ]
  },
  {
   "cell_type": "code",
   "execution_count": 73,
   "metadata": {},
   "outputs": [
    {
     "name": "stdout",
     "output_type": "stream",
     "text": [
      "                            OLS Regression Results                            \n",
      "==============================================================================\n",
      "Dep. Variable:                  price   R-squared:                       0.246\n",
      "Model:                            OLS   Adj. R-squared:                  0.216\n",
      "Method:                 Least Squares   F-statistic:                     8.216\n",
      "Date:                Fri, 22 Nov 2019   Prob (F-statistic):           4.61e-33\n",
      "Time:                        17:31:39   Log-Likelihood:                -5079.0\n",
      "No. Observations:                 865   AIC:                         1.023e+04\n",
      "Df Residuals:                     831   BIC:                         1.039e+04\n",
      "Df Model:                          33                                         \n",
      "Covariance Type:            nonrobust                                         \n",
      "=================================================================================================================\n",
      "                                                    coef    std err          t      P>|t|      [0.025      0.975]\n",
      "-----------------------------------------------------------------------------------------------------------------\n",
      "const                                            43.7135      7.152      6.112      0.000      29.675      57.753\n",
      "number_of_reviews                                -0.1367      0.051     -2.694      0.007      -0.236      -0.037\n",
      "reviews_per_month                                -0.1367      0.051     -2.694      0.007      -0.236      -0.037\n",
      "room_type_Entire home/apt                        78.4507      7.349     10.675      0.000      64.026      92.875\n",
      "room_type_Private room                           -6.3089      6.933     -0.910      0.363     -19.918       7.300\n",
      "room_type_Shared room                           -28.4282     17.893     -1.589      0.112     -63.548       6.692\n",
      "neighbourhood_Ancoats and Clayton                 9.1599     10.575      0.866      0.387     -11.597      29.917\n",
      "neighbourhood_Ardwick                            10.9359     16.268      0.672      0.502     -20.996      42.867\n",
      "neighbourhood_Baguley                            -3.0292     42.811     -0.071      0.944     -87.060      81.002\n",
      "neighbourhood_Bradford                           -6.4225     14.343     -0.448      0.654     -34.575      21.730\n",
      "neighbourhood_Brooklands                         -8.2635     35.094     -0.235      0.814     -77.148      60.621\n",
      "neighbourhood_Burnage                            71.0540     32.562      2.182      0.029       7.141     134.967\n",
      "neighbourhood_Charlestown                       -19.0053     38.358     -0.495      0.620     -94.294      56.284\n",
      "neighbourhood_Cheetham                           45.1070     17.138      2.632      0.009      11.468      78.746\n",
      "neighbourhood_Chorlton                           15.0499     16.048      0.938      0.349     -16.449      46.549\n",
      "neighbourhood_Chorlton Park                     -11.4979     19.399     -0.593      0.554     -49.574      26.578\n",
      "neighbourhood_City Centre                        28.4403      8.505      3.344      0.001      11.746      45.134\n",
      "neighbourhood_Crumpsall                           2.9015     43.129      0.067      0.946     -81.753      87.556\n",
      "neighbourhood_Didsbury East                       1.9253     19.381      0.099      0.921     -36.116      39.967\n",
      "neighbourhood_Didsbury West                      -8.2554     14.872     -0.555      0.579     -37.447      20.936\n",
      "neighbourhood_Fallowfield                        12.2596     21.976      0.558      0.577     -30.875      55.394\n",
      "neighbourhood_Gorton North                      -14.4580     30.539     -0.473      0.636     -74.400      45.484\n",
      "neighbourhood_Gorton South                       -1.8347     32.582     -0.056      0.955     -65.788      62.119\n",
      "neighbourhood_Harpurhey                         -22.2644     38.374     -0.580      0.562     -97.585      53.056\n",
      "neighbourhood_Higher Blackley                   -13.1600     49.336     -0.267      0.790    -109.998      83.678\n",
      "neighbourhood_Hulme                               3.1697     11.396      0.278      0.781     -19.198      25.537\n",
      "neighbourhood_Levenshulme                        -9.8606     26.228     -0.376      0.707     -61.341      41.620\n",
      "neighbourhood_Longsight                          -2.8658     20.800     -0.138      0.890     -43.693      37.962\n",
      "neighbourhood_Miles Platting and Newton Heath    -6.9046     60.276     -0.115      0.909    -125.217     111.407\n",
      "neighbourhood_Moss Side                          -6.2085     13.895     -0.447      0.655     -33.481      21.064\n",
      "neighbourhood_Moston                              1.9698     85.006      0.023      0.982    -164.883     168.822\n",
      "neighbourhood_Northenden                        -11.2566     30.547     -0.368      0.713     -71.215      48.702\n",
      "neighbourhood_Old Moat                           -9.4997     20.302     -0.468      0.640     -49.348      30.349\n",
      "neighbourhood_Rusholme                            4.3972     15.457      0.284      0.776     -25.943      34.737\n",
      "neighbourhood_Sharston                           -1.8199     32.593     -0.056      0.955     -65.793      62.153\n",
      "neighbourhood_Whalley Range                      -5.5807     14.293     -0.390      0.696     -33.636      22.474\n",
      "neighbourhood_Withington                         -0.4692     24.228     -0.019      0.985     -48.024      47.086\n",
      "==============================================================================\n",
      "Omnibus:                     1050.188   Durbin-Watson:                   1.917\n",
      "Prob(Omnibus):                  0.000   Jarque-Bera (JB):           115384.040\n",
      "Skew:                           6.119   Prob(JB):                         0.00\n",
      "Kurtosis:                      58.241   Cond. No.                     6.89e+16\n",
      "==============================================================================\n",
      "\n",
      "Warnings:\n",
      "[1] Standard Errors assume that the covariance matrix of the errors is correctly specified.\n",
      "[2] The smallest eigenvalue is 4.36e-28. This might indicate that there are\n",
      "strong multicollinearity problems or that the design matrix is singular.\n"
     ]
    }
   ],
   "source": [
    "# multiple linear regression\n",
    "X = sm.add_constant(pd.get_dummies(listing[['number_of_reviews', 'reviews_per_month', 'room_type', 'neighbourhood']]))\n",
    "model = sm.OLS(y, X)\n",
    "results = model.fit()\n",
    "print(results.summary())"
   ]
  },
  {
   "cell_type": "code",
   "execution_count": 76,
   "metadata": {},
   "outputs": [
    {
     "name": "stdout",
     "output_type": "stream",
     "text": [
      "                            OLS Regression Results                            \n",
      "==============================================================================\n",
      "Dep. Variable:                  price   R-squared:                       0.220\n",
      "Model:                            OLS   Adj. R-squared:                  0.217\n",
      "Method:                 Least Squares   F-statistic:                     80.82\n",
      "Date:                Fri, 22 Nov 2019   Prob (F-statistic):           4.53e-46\n",
      "Time:                        17:32:12   Log-Likelihood:                -5093.8\n",
      "No. Observations:                 865   AIC:                         1.020e+04\n",
      "Df Residuals:                     861   BIC:                         1.021e+04\n",
      "Df Model:                           3                                         \n",
      "Covariance Type:            nonrobust                                         \n",
      "=============================================================================================\n",
      "                                coef    std err          t      P>|t|      [0.025      0.975]\n",
      "---------------------------------------------------------------------------------------------\n",
      "const                        52.0183      6.158      8.447      0.000      39.931      64.105\n",
      "number_of_reviews            -0.2585      0.099     -2.606      0.009      -0.453      -0.064\n",
      "room_type_Entire home/apt    83.2683      6.894     12.079      0.000      69.738      96.798\n",
      "room_type_Private room       -9.0762      6.677     -1.359      0.174     -22.181       4.028\n",
      "room_type_Shared room       -22.1738     17.614     -1.259      0.208     -56.746      12.398\n",
      "==============================================================================\n",
      "Omnibus:                     1056.989   Durbin-Watson:                   1.854\n",
      "Prob(Omnibus):                  0.000   Jarque-Bera (JB):           115698.691\n",
      "Skew:                           6.197   Prob(JB):                         0.00\n",
      "Kurtosis:                      58.286   Cond. No.                     4.22e+16\n",
      "==============================================================================\n",
      "\n",
      "Warnings:\n",
      "[1] Standard Errors assume that the covariance matrix of the errors is correctly specified.\n",
      "[2] The smallest eigenvalue is 5.81e-28. This might indicate that there are\n",
      "strong multicollinearity problems or that the design matrix is singular.\n"
     ]
    }
   ],
   "source": [
    "X = sm.add_constant(pd.get_dummies(listing[[ 'number_of_reviews', 'room_type']]))\n",
    "model = sm.OLS(y, X)\n",
    "results = model.fit()\n",
    "print(results.summary())"
   ]
  },
  {
   "cell_type": "code",
   "execution_count": 77,
   "metadata": {},
   "outputs": [
    {
     "data": {
      "text/html": [
       "<div>\n",
       "<style scoped>\n",
       "    .dataframe tbody tr th:only-of-type {\n",
       "        vertical-align: middle;\n",
       "    }\n",
       "\n",
       "    .dataframe tbody tr th {\n",
       "        vertical-align: top;\n",
       "    }\n",
       "\n",
       "    .dataframe thead th {\n",
       "        text-align: right;\n",
       "    }\n",
       "</style>\n",
       "<table border=\"1\" class=\"dataframe\">\n",
       "  <thead>\n",
       "    <tr style=\"text-align: right;\">\n",
       "      <th></th>\n",
       "      <th>id_listing</th>\n",
       "      <th>name_listmerge</th>\n",
       "      <th>host_id</th>\n",
       "      <th>host_name</th>\n",
       "      <th>neighbourhood</th>\n",
       "      <th>latitude_listmerge</th>\n",
       "      <th>longitude_listmerge</th>\n",
       "      <th>room_type</th>\n",
       "      <th>price_listmerge</th>\n",
       "      <th>minimum_nights</th>\n",
       "      <th>...</th>\n",
       "      <th>venue_id</th>\n",
       "      <th>id_venue</th>\n",
       "      <th>fid</th>\n",
       "      <th>latitude_venue</th>\n",
       "      <th>longitude_venue</th>\n",
       "      <th>name_venue</th>\n",
       "      <th>price_venue</th>\n",
       "      <th>rating</th>\n",
       "      <th>ratingSignals</th>\n",
       "      <th>url</th>\n",
       "    </tr>\n",
       "  </thead>\n",
       "  <tbody>\n",
       "    <tr>\n",
       "      <td>0</td>\n",
       "      <td>2613909</td>\n",
       "      <td>Comfy family home,central location.</td>\n",
       "      <td>3962880</td>\n",
       "      <td>Soraya &amp; Shahin</td>\n",
       "      <td>Burnage</td>\n",
       "      <td>53.435477302000734</td>\n",
       "      <td>-2.198658584963349</td>\n",
       "      <td>Private room</td>\n",
       "      <td>30.0</td>\n",
       "      <td>1</td>\n",
       "      <td>...</td>\n",
       "      <td>659</td>\n",
       "      <td>659</td>\n",
       "      <td>4d5693c848ea6ea87c49e2a3</td>\n",
       "      <td>53.432929</td>\n",
       "      <td>-2.200865</td>\n",
       "      <td>The Co-operative Food</td>\n",
       "      <td>0</td>\n",
       "      <td>0.0</td>\n",
       "      <td>0</td>\n",
       "      <td>http://co-operativefood.co.uk</td>\n",
       "    </tr>\n",
       "    <tr>\n",
       "      <td>1</td>\n",
       "      <td>753374</td>\n",
       "      <td>Comfy Family Home, Central Location</td>\n",
       "      <td>3962880</td>\n",
       "      <td>Soraya &amp; Shahin</td>\n",
       "      <td>Burnage</td>\n",
       "      <td>53.435641670037484</td>\n",
       "      <td>-2.198358976664632</td>\n",
       "      <td>Private room</td>\n",
       "      <td>20.0</td>\n",
       "      <td>1</td>\n",
       "      <td>...</td>\n",
       "      <td>659</td>\n",
       "      <td>659</td>\n",
       "      <td>4d5693c848ea6ea87c49e2a3</td>\n",
       "      <td>53.432929</td>\n",
       "      <td>-2.200865</td>\n",
       "      <td>The Co-operative Food</td>\n",
       "      <td>0</td>\n",
       "      <td>0.0</td>\n",
       "      <td>0</td>\n",
       "      <td>http://co-operativefood.co.uk</td>\n",
       "    </tr>\n",
       "    <tr>\n",
       "      <td>2</td>\n",
       "      <td>10379829</td>\n",
       "      <td>3 bedroom house in Burnage</td>\n",
       "      <td>16697099</td>\n",
       "      <td>Mo</td>\n",
       "      <td>Burnage</td>\n",
       "      <td>53.4312016425226</td>\n",
       "      <td>-2.2067398105783944</td>\n",
       "      <td>Entire home/apt</td>\n",
       "      <td>351.0</td>\n",
       "      <td>1</td>\n",
       "      <td>...</td>\n",
       "      <td>659</td>\n",
       "      <td>659</td>\n",
       "      <td>4d5693c848ea6ea87c49e2a3</td>\n",
       "      <td>53.432929</td>\n",
       "      <td>-2.200865</td>\n",
       "      <td>The Co-operative Food</td>\n",
       "      <td>0</td>\n",
       "      <td>0.0</td>\n",
       "      <td>0</td>\n",
       "      <td>http://co-operativefood.co.uk</td>\n",
       "    </tr>\n",
       "    <tr>\n",
       "      <td>3</td>\n",
       "      <td>5270940</td>\n",
       "      <td>Beautiful property sleeps upto 20</td>\n",
       "      <td>27284229</td>\n",
       "      <td>Abdul</td>\n",
       "      <td>Burnage</td>\n",
       "      <td>53.43369497999983</td>\n",
       "      <td>-2.207530780477353</td>\n",
       "      <td>Entire home/apt</td>\n",
       "      <td>400.0</td>\n",
       "      <td>1</td>\n",
       "      <td>...</td>\n",
       "      <td>659</td>\n",
       "      <td>659</td>\n",
       "      <td>4d5693c848ea6ea87c49e2a3</td>\n",
       "      <td>53.432929</td>\n",
       "      <td>-2.200865</td>\n",
       "      <td>The Co-operative Food</td>\n",
       "      <td>0</td>\n",
       "      <td>0.0</td>\n",
       "      <td>0</td>\n",
       "      <td>http://co-operativefood.co.uk</td>\n",
       "    </tr>\n",
       "    <tr>\n",
       "      <td>4</td>\n",
       "      <td>2613909</td>\n",
       "      <td>Comfy family home,central location.</td>\n",
       "      <td>3962880</td>\n",
       "      <td>Soraya &amp; Shahin</td>\n",
       "      <td>Burnage</td>\n",
       "      <td>53.435477302000734</td>\n",
       "      <td>-2.198658584963349</td>\n",
       "      <td>Private room</td>\n",
       "      <td>30.0</td>\n",
       "      <td>1</td>\n",
       "      <td>...</td>\n",
       "      <td>658</td>\n",
       "      <td>658</td>\n",
       "      <td>4daed05093a0096fbaa718e5</td>\n",
       "      <td>53.432297</td>\n",
       "      <td>-2.200793</td>\n",
       "      <td>Martins Bakery</td>\n",
       "      <td>1</td>\n",
       "      <td>0.0</td>\n",
       "      <td>0</td>\n",
       "      <td>http://www.martinsbakery.co.uk</td>\n",
       "    </tr>\n",
       "  </tbody>\n",
       "</table>\n",
       "<p>5 rows × 27 columns</p>\n",
       "</div>"
      ],
      "text/plain": [
       "  id_listing                       name_listmerge   host_id        host_name  \\\n",
       "0    2613909  Comfy family home,central location.   3962880  Soraya & Shahin   \n",
       "1     753374  Comfy Family Home, Central Location   3962880  Soraya & Shahin   \n",
       "2   10379829           3 bedroom house in Burnage  16697099               Mo   \n",
       "3    5270940    Beautiful property sleeps upto 20  27284229            Abdul   \n",
       "4    2613909  Comfy family home,central location.   3962880  Soraya & Shahin   \n",
       "\n",
       "  neighbourhood  latitude_listmerge  longitude_listmerge        room_type  \\\n",
       "0       Burnage  53.435477302000734   -2.198658584963349     Private room   \n",
       "1       Burnage  53.435641670037484   -2.198358976664632     Private room   \n",
       "2       Burnage    53.4312016425226  -2.2067398105783944  Entire home/apt   \n",
       "3       Burnage   53.43369497999983   -2.207530780477353  Entire home/apt   \n",
       "4       Burnage  53.435477302000734   -2.198658584963349     Private room   \n",
       "\n",
       "   price_listmerge minimum_nights  ...  venue_id id_venue  \\\n",
       "0             30.0              1  ...       659      659   \n",
       "1             20.0              1  ...       659      659   \n",
       "2            351.0              1  ...       659      659   \n",
       "3            400.0              1  ...       659      659   \n",
       "4             30.0              1  ...       658      658   \n",
       "\n",
       "                        fid latitude_venue longitude_venue  \\\n",
       "0  4d5693c848ea6ea87c49e2a3      53.432929       -2.200865   \n",
       "1  4d5693c848ea6ea87c49e2a3      53.432929       -2.200865   \n",
       "2  4d5693c848ea6ea87c49e2a3      53.432929       -2.200865   \n",
       "3  4d5693c848ea6ea87c49e2a3      53.432929       -2.200865   \n",
       "4  4daed05093a0096fbaa718e5      53.432297       -2.200793   \n",
       "\n",
       "              name_venue price_venue  rating  ratingSignals  \\\n",
       "0  The Co-operative Food           0     0.0              0   \n",
       "1  The Co-operative Food           0     0.0              0   \n",
       "2  The Co-operative Food           0     0.0              0   \n",
       "3  The Co-operative Food           0     0.0              0   \n",
       "4         Martins Bakery           1     0.0              0   \n",
       "\n",
       "                              url  \n",
       "0   http://co-operativefood.co.uk  \n",
       "1   http://co-operativefood.co.uk  \n",
       "2   http://co-operativefood.co.uk  \n",
       "3   http://co-operativefood.co.uk  \n",
       "4  http://www.martinsbakery.co.uk  \n",
       "\n",
       "[5 rows x 27 columns]"
      ]
     },
     "execution_count": 77,
     "metadata": {},
     "output_type": "execute_result"
    }
   ],
   "source": [
    "def fit(X, y):\n",
    "    model = sm.OLS(y, X)\n",
    "    results = model.fit()\n",
    "    print(results.summary())\n",
    "    return results\n",
    "\n",
    "# feature engineering\n",
    "join_table = listing.merge(vicinity, left_on='id', right_on='listing_id', suffixes=('_listing', '')) \\\n",
    "                    .merge(venues, left_on='venue_id', right_on='id', suffixes=('_listmerge', '_venue'))\n",
    "\n",
    "join_table.columns\n",
    "join_table.head()"
   ]
  },
  {
   "cell_type": "code",
   "execution_count": 98,
   "metadata": {},
   "outputs": [],
   "source": [
    "def compute_features(df):\n",
    "    num_venues = len(df.venue_id.unique())\n",
    "    ave_activity = df.ratingSignals.astype(float).median()\n",
    "    ave_rating = df.rating.astype(float).median()\n",
    "    row = df.iloc[0]\n",
    "    return pd.Series({'price': row['price_listmerge'],\n",
    "                      'number_of_reviews': row['number_of_reviews'], \n",
    "                      'reviews_per_month': row['reviews_per_month'], \n",
    "                      #'id': row['id_listing'], \n",
    "                      'neighbourhood': row['neighbourhood'], \n",
    "                      'room_type': row['room_type'], \n",
    "                      #'activity': row['activity'], \n",
    "                      'num_venues': num_venues, \n",
    "                      'venue_activity': ave_activity, \n",
    "                      'rating': ave_rating})"
   ]
  },
  {
   "cell_type": "code",
   "execution_count": 99,
   "metadata": {},
   "outputs": [
    {
     "name": "stdout",
     "output_type": "stream",
     "text": [
      "<class 'pandas.core.frame.DataFrame'>\n",
      "Int64Index: 38935 entries, 0 to 38934\n",
      "Data columns (total 27 columns):\n",
      "id_listing                        38935 non-null object\n",
      "name_listmerge                    38935 non-null object\n",
      "host_id                           38935 non-null object\n",
      "host_name                         38935 non-null object\n",
      "neighbourhood                     38935 non-null object\n",
      "latitude_listmerge                38935 non-null object\n",
      "longitude_listmerge               38935 non-null object\n",
      "room_type                         38935 non-null object\n",
      "price_listmerge                   38935 non-null float64\n",
      "minimum_nights                    38935 non-null object\n",
      "number_of_reviews                 38935 non-null int64\n",
      "last_review                       38935 non-null object\n",
      "reviews_per_month                 38935 non-null float64\n",
      "calculated_host_listings_count    38935 non-null object\n",
      "availability_365                  38935 non-null object\n",
      "id_listmerge                      38935 non-null int64\n",
      "listing_id                        38935 non-null object\n",
      "venue_id                          38935 non-null int64\n",
      "id_venue                          38935 non-null int64\n",
      "fid                               38935 non-null object\n",
      "latitude_venue                    38935 non-null float64\n",
      "longitude_venue                   38935 non-null float64\n",
      "name_venue                        38935 non-null object\n",
      "price_venue                       38935 non-null int64\n",
      "rating                            38935 non-null float64\n",
      "ratingSignals                     38935 non-null int64\n",
      "url                               38935 non-null object\n",
      "dtypes: float64(5), int64(6), object(16)\n",
      "memory usage: 8.3+ MB\n"
     ]
    }
   ],
   "source": [
    "join_table.info()"
   ]
  },
  {
   "cell_type": "code",
   "execution_count": 109,
   "metadata": {},
   "outputs": [],
   "source": [
    "features = join_table.groupby('id_listing').apply(compute_features)"
   ]
  },
  {
   "cell_type": "code",
   "execution_count": 110,
   "metadata": {},
   "outputs": [
    {
     "name": "stdout",
     "output_type": "stream",
     "text": [
      "                            OLS Regression Results                            \n",
      "==============================================================================\n",
      "Dep. Variable:                  price   R-squared:                       0.234\n",
      "Model:                            OLS   Adj. R-squared:                  0.229\n",
      "Method:                 Least Squares   F-statistic:                     43.68\n",
      "Date:                Fri, 22 Nov 2019   Prob (F-statistic):           1.17e-46\n",
      "Time:                        17:39:24   Log-Likelihood:                -5074.6\n",
      "No. Observations:                 863   AIC:                         1.016e+04\n",
      "Df Residuals:                     856   BIC:                         1.020e+04\n",
      "Df Model:                           6                                         \n",
      "Covariance Type:            nonrobust                                         \n",
      "=============================================================================================\n",
      "                                coef    std err          t      P>|t|      [0.025      0.975]\n",
      "---------------------------------------------------------------------------------------------\n",
      "const                        43.5585      6.683      6.518      0.000      30.442      56.675\n",
      "number_of_reviews            -0.2524      0.099     -2.547      0.011      -0.447      -0.058\n",
      "num_venues                    0.0857      0.093      0.924      0.356      -0.096       0.268\n",
      "rating                       -1.9007      1.885     -1.008      0.314      -5.601       1.799\n",
      "venue_activity                0.6391      0.314      2.034      0.042       0.022       1.256\n",
      "room_type_Entire home/apt    76.9869      7.160     10.753      0.000      62.935      91.039\n",
      "room_type_Private room       -5.7277      6.783     -0.844      0.399     -19.040       7.585\n",
      "room_type_Shared room       -27.7007     17.748     -1.561      0.119     -62.536       7.134\n",
      "==============================================================================\n",
      "Omnibus:                     1053.294   Durbin-Watson:                   1.844\n",
      "Prob(Omnibus):                  0.000   Jarque-Bera (JB):           113837.663\n",
      "Skew:                           6.188   Prob(JB):                         0.00\n",
      "Kurtosis:                      57.888   Cond. No.                     2.88e+16\n",
      "==============================================================================\n",
      "\n",
      "Warnings:\n",
      "[1] Standard Errors assume that the covariance matrix of the errors is correctly specified.\n",
      "[2] The smallest eigenvalue is 5.66e-27. This might indicate that there are\n",
      "strong multicollinearity problems or that the design matrix is singular.\n"
     ]
    },
    {
     "data": {
      "text/plain": [
       "<statsmodels.regression.linear_model.RegressionResultsWrapper at 0x7fd71b64f320>"
      ]
     },
     "execution_count": 110,
     "metadata": {},
     "output_type": "execute_result"
    }
   ],
   "source": [
    "y = features.price\n",
    "\n",
    "# what is it learning and understanding parameters. each beta is roughly corresponds to a one unit increase\n",
    "# also p-values. large usually because of data sparcity or it is truely random and has no effect\n",
    "X = sm.add_constant(pd.get_dummies(features[['number_of_reviews', 'room_type', 'num_venues', 'rating', 'venue_activity']]))\n",
    "fit(X, y)"
   ]
  },
  {
   "cell_type": "code",
   "execution_count": 111,
   "metadata": {},
   "outputs": [
    {
     "name": "stdout",
     "output_type": "stream",
     "text": [
      "                            OLS Regression Results                            \n",
      "==============================================================================\n",
      "Dep. Variable:                  price   R-squared:                       0.236\n",
      "Model:                            OLS   Adj. R-squared:                  0.230\n",
      "Method:                 Least Squares   F-statistic:                     37.70\n",
      "Date:                Fri, 22 Nov 2019   Prob (F-statistic):           3.65e-46\n",
      "Time:                        17:39:56   Log-Likelihood:                -5073.8\n",
      "No. Observations:                 863   AIC:                         1.016e+04\n",
      "Df Residuals:                     855   BIC:                         1.020e+04\n",
      "Df Model:                           7                                         \n",
      "Covariance Type:            nonrobust                                         \n",
      "=============================================================================================\n",
      "                                coef    std err          t      P>|t|      [0.025      0.975]\n",
      "---------------------------------------------------------------------------------------------\n",
      "const                        44.0144      6.690      6.579      0.000      30.884      57.145\n",
      "noise                         3.7945      2.975      1.275      0.203      -2.045       9.634\n",
      "number_of_reviews            -0.2603      0.099     -2.622      0.009      -0.455      -0.065\n",
      "num_venues                    0.0879      0.093      0.947      0.344      -0.094       0.270\n",
      "rating                       -1.9460      1.885     -1.032      0.302      -5.645       1.753\n",
      "venue_activity                0.6431      0.314      2.047      0.041       0.027       1.260\n",
      "room_type_Entire home/apt    76.8358      7.158     10.734      0.000      62.787      90.885\n",
      "room_type_Private room       -6.1880      6.790     -0.911      0.362     -19.515       7.139\n",
      "room_type_Shared room       -26.6334     17.761     -1.500      0.134     -61.494       8.228\n",
      "==============================================================================\n",
      "Omnibus:                     1049.811   Durbin-Watson:                   1.846\n",
      "Prob(Omnibus):                  0.000   Jarque-Bera (JB):           111821.837\n",
      "Skew:                           6.157   Prob(JB):                         0.00\n",
      "Kurtosis:                      57.389   Cond. No.                     5.54e+17\n",
      "==============================================================================\n",
      "\n",
      "Warnings:\n",
      "[1] Standard Errors assume that the covariance matrix of the errors is correctly specified.\n",
      "[2] The smallest eigenvalue is 1.53e-29. This might indicate that there are\n",
      "strong multicollinearity problems or that the design matrix is singular.\n"
     ]
    },
    {
     "data": {
      "text/plain": [
       "<statsmodels.regression.linear_model.RegressionResultsWrapper at 0x7fd71b679f98>"
      ]
     },
     "execution_count": 111,
     "metadata": {},
     "output_type": "execute_result"
    }
   ],
   "source": [
    "features['noise'] = np.random.randn(len(features), 1)\n",
    "X = sm.add_constant(pd.get_dummies(features[['noise', 'number_of_reviews', 'room_type', 'num_venues', 'rating', 'venue_activity']]))\n",
    "fit(X, y)"
   ]
  },
  {
   "cell_type": "code",
   "execution_count": 114,
   "metadata": {},
   "outputs": [
    {
     "data": {
      "text/plain": [
       "Private room       492\n",
       "Entire home/apt    357\n",
       "Shared room         14\n",
       "Name: room_type, dtype: int64"
      ]
     },
     "execution_count": 114,
     "metadata": {},
     "output_type": "execute_result"
    }
   ],
   "source": [
    "# Shared rooms are probably still rare tho (especially give the other features, like facets).\n",
    "features.room_type.value_counts()"
   ]
  },
  {
   "cell_type": "code",
   "execution_count": 115,
   "metadata": {},
   "outputs": [
    {
     "name": "stdout",
     "output_type": "stream",
     "text": [
      "                            OLS Regression Results                            \n",
      "==============================================================================\n",
      "Dep. Variable:                  price   R-squared:                       0.251\n",
      "Model:                            OLS   Adj. R-squared:                  0.218\n",
      "Method:                 Least Squares   F-statistic:                     7.689\n",
      "Date:                Fri, 22 Nov 2019   Prob (F-statistic):           1.23e-32\n",
      "Time:                        17:42:28   Log-Likelihood:                -5065.1\n",
      "No. Observations:                 863   AIC:                         1.020e+04\n",
      "Df Residuals:                     826   BIC:                         1.038e+04\n",
      "Df Model:                          36                                         \n",
      "Covariance Type:            nonrobust                                         \n",
      "=================================================================================================================\n",
      "                                                    coef    std err          t      P>|t|      [0.025      0.975]\n",
      "-----------------------------------------------------------------------------------------------------------------\n",
      "const                                            40.8802      7.559      5.408      0.000      26.043      55.718\n",
      "number_of_reviews                                -0.2364      0.103     -2.300      0.022      -0.438      -0.035\n",
      "num_venues                                        0.0854      0.100      0.857      0.392      -0.110       0.281\n",
      "rating                                           -2.4291      2.173     -1.118      0.264      -6.695       1.837\n",
      "venue_activity                                    0.7740      0.405      1.913      0.056      -0.020       1.568\n",
      "room_type_Entire home/apt                        77.3165      7.484     10.331      0.000      62.627      92.006\n",
      "room_type_Private room                           -5.0164      7.031     -0.713      0.476     -18.817       8.785\n",
      "room_type_Shared room                           -31.4199     18.215     -1.725      0.085     -67.174       4.334\n",
      "neighbourhood_Ancoats and Clayton               -14.0414     14.803     -0.949      0.343     -43.097      15.014\n",
      "neighbourhood_Ardwick                            10.9049     16.269      0.670      0.503     -21.028      42.837\n",
      "neighbourhood_Baguley                            -2.1830     42.813     -0.051      0.959     -86.217      81.851\n",
      "neighbourhood_Bradford                           -5.5762     14.527     -0.384      0.701     -34.090      22.938\n",
      "neighbourhood_Brooklands                         -5.0255     38.365     -0.131      0.896     -80.330      70.279\n",
      "neighbourhood_Burnage                            71.7533     32.623      2.199      0.028       7.720     135.787\n",
      "neighbourhood_Charlestown                       -17.6561     38.407     -0.460      0.646     -93.043      57.731\n",
      "neighbourhood_Cheetham                           43.3413     17.168      2.524      0.012       9.642      77.040\n",
      "neighbourhood_Chorlton                           17.4174     16.561      1.052      0.293     -15.090      49.924\n",
      "neighbourhood_Chorlton Park                     -10.2927     19.420     -0.530      0.596     -48.410      27.825\n",
      "neighbourhood_City Centre                         3.8261     14.171      0.270      0.787     -23.989      31.641\n",
      "neighbourhood_Crumpsall                           5.1827     43.204      0.120      0.905     -79.620      89.985\n",
      "neighbourhood_Didsbury East                       6.8640     20.178      0.340      0.734     -32.743      46.471\n",
      "neighbourhood_Didsbury West                      -6.1167     15.241     -0.401      0.688     -36.032      23.799\n",
      "neighbourhood_Fallowfield                        13.0717     22.104      0.591      0.554     -30.315      56.458\n",
      "neighbourhood_Gorton North                       -8.5712     30.972     -0.277      0.782     -69.365      52.222\n",
      "neighbourhood_Gorton South                        1.8736     32.609      0.057      0.954     -62.133      65.880\n",
      "neighbourhood_Harpurhey                         -20.5953     38.426     -0.536      0.592     -96.018      54.828\n",
      "neighbourhood_Higher Blackley                   -12.0842     49.360     -0.245      0.807    -108.969      84.801\n",
      "neighbourhood_Hulme                               2.9539     11.445      0.258      0.796     -19.510      25.418\n",
      "neighbourhood_Levenshulme                        -8.3967     26.226     -0.320      0.749     -59.874      43.081\n",
      "neighbourhood_Longsight                          -1.6900     20.913     -0.081      0.936     -42.739      39.359\n",
      "neighbourhood_Miles Platting and Newton Heath    -6.7492     60.385     -0.112      0.911    -125.275     111.777\n",
      "neighbourhood_Moss Side                          -5.0513     13.973     -0.362      0.718     -32.478      22.375\n",
      "neighbourhood_Moston                              2.6623     84.989      0.031      0.975    -164.157     169.482\n",
      "neighbourhood_Northenden                         -9.4447     30.583     -0.309      0.758     -69.475      50.585\n",
      "neighbourhood_Old Moat                           -8.7972     20.343     -0.432      0.666     -48.728      31.134\n",
      "neighbourhood_Rusholme                            4.8975     15.912      0.308      0.758     -26.335      36.130\n",
      "neighbourhood_Sharston                           -1.1597     32.658     -0.036      0.972     -65.262      62.943\n",
      "neighbourhood_Whalley Range                      -1.5324     14.458     -0.106      0.916     -29.912      26.847\n",
      "neighbourhood_Withington                          1.0948     24.270      0.045      0.964     -46.543      48.733\n",
      "==============================================================================\n",
      "Omnibus:                     1046.483   Durbin-Watson:                   1.867\n",
      "Prob(Omnibus):                  0.000   Jarque-Bera (JB):           114784.477\n",
      "Skew:                           6.105   Prob(JB):                         0.00\n",
      "Kurtosis:                      58.164   Cond. No.                     3.05e+16\n",
      "==============================================================================\n",
      "\n",
      "Warnings:\n",
      "[1] Standard Errors assume that the covariance matrix of the errors is correctly specified.\n",
      "[2] The smallest eigenvalue is 5.04e-27. This might indicate that there are\n",
      "strong multicollinearity problems or that the design matrix is singular.\n"
     ]
    },
    {
     "data": {
      "text/plain": [
       "<statsmodels.regression.linear_model.RegressionResultsWrapper at 0x7fd71b64ff28>"
      ]
     },
     "execution_count": 115,
     "metadata": {},
     "output_type": "execute_result"
    }
   ],
   "source": [
    "# add more features\n",
    "X = sm.add_constant(pd.get_dummies(features[['number_of_reviews', 'room_type', 'num_venues', 'rating', 'venue_activity', 'neighbourhood']]))\n",
    "fit(X, y)"
   ]
  },
  {
   "cell_type": "code",
   "execution_count": 116,
   "metadata": {},
   "outputs": [
    {
     "name": "stdout",
     "output_type": "stream",
     "text": [
      "                            OLS Regression Results                            \n",
      "==============================================================================\n",
      "Dep. Variable:                  price   R-squared:                       0.231\n",
      "Model:                            OLS   Adj. R-squared:                  0.226\n",
      "Method:                 Least Squares   F-statistic:                     51.40\n",
      "Date:                Fri, 22 Nov 2019   Prob (F-statistic):           1.18e-46\n",
      "Time:                        17:42:39   Log-Likelihood:                -5076.7\n",
      "No. Observations:                 863   AIC:                         1.017e+04\n",
      "Df Residuals:                     857   BIC:                         1.019e+04\n",
      "Df Model:                           5                                         \n",
      "Covariance Type:            nonrobust                                         \n",
      "=============================================================================================\n",
      "                                coef    std err          t      P>|t|      [0.025      0.975]\n",
      "---------------------------------------------------------------------------------------------\n",
      "const                        43.3974      6.695      6.482      0.000      30.257      56.537\n",
      "number_of_reviews            -0.2605      0.099     -2.626      0.009      -0.455      -0.066\n",
      "num_venues                    0.1607      0.085      1.884      0.060      -0.007       0.328\n",
      "rating                        1.0998      1.176      0.935      0.350      -1.208       3.408\n",
      "room_type_Entire home/apt    76.2810      7.164     10.648      0.000      62.220      90.342\n",
      "room_type_Private room       -8.1533      6.689     -1.219      0.223     -21.283       4.976\n",
      "room_type_Shared room       -24.7303     17.720     -1.396      0.163     -59.511      10.050\n",
      "==============================================================================\n",
      "Omnibus:                     1051.969   Durbin-Watson:                   1.841\n",
      "Prob(Omnibus):                  0.000   Jarque-Bera (JB):           112970.002\n",
      "Skew:                           6.176   Prob(JB):                         0.00\n",
      "Kurtosis:                      57.673   Cond. No.                     4.58e+16\n",
      "==============================================================================\n",
      "\n",
      "Warnings:\n",
      "[1] Standard Errors assume that the covariance matrix of the errors is correctly specified.\n",
      "[2] The smallest eigenvalue is 1.95e-27. This might indicate that there are\n",
      "strong multicollinearity problems or that the design matrix is singular.\n"
     ]
    },
    {
     "data": {
      "text/plain": [
       "<statsmodels.regression.linear_model.RegressionResultsWrapper at 0x7fd719e31a20>"
      ]
     },
     "execution_count": 116,
     "metadata": {},
     "output_type": "execute_result"
    }
   ],
   "source": [
    "# remove features. r2 vs adj-r2\n",
    "X = sm.add_constant(pd.get_dummies(features[['number_of_reviews', 'room_type', 'num_venues', 'rating']]))\n",
    "fit(X, y)"
   ]
  },
  {
   "cell_type": "code",
   "execution_count": 117,
   "metadata": {},
   "outputs": [
    {
     "name": "stdout",
     "output_type": "stream",
     "text": [
      "                            OLS Regression Results                            \n",
      "==============================================================================\n",
      "Dep. Variable:                  price   R-squared:                       0.272\n",
      "Model:                            OLS   Adj. R-squared:                  0.264\n",
      "Method:                 Least Squares   F-statistic:                     36.86\n",
      "Date:                Fri, 22 Nov 2019   Prob (F-statistic):           4.12e-32\n",
      "Time:                        17:42:57   Log-Likelihood:                -2832.3\n",
      "No. Observations:                 500   AIC:                             5677.\n",
      "Df Residuals:                     494   BIC:                             5702.\n",
      "Df Model:                           5                                         \n",
      "Covariance Type:            nonrobust                                         \n",
      "=============================================================================================\n",
      "                                coef    std err          t      P>|t|      [0.025      0.975]\n",
      "---------------------------------------------------------------------------------------------\n",
      "const                        46.0457      8.517      5.406      0.000      29.311      62.780\n",
      "number_of_reviews            -0.1845      0.099     -1.857      0.064      -0.380       0.011\n",
      "num_venues                    0.1524      0.093      1.644      0.101      -0.030       0.335\n",
      "rating                       -0.5016      1.262     -0.397      0.691      -2.982       1.979\n",
      "room_type_Entire home/apt    72.6727      9.024      8.053      0.000      54.942      90.403\n",
      "room_type_Private room       -7.9680      8.581     -0.929      0.354     -24.828       8.892\n",
      "room_type_Shared room       -18.6591     23.727     -0.786      0.432     -65.277      27.958\n",
      "==============================================================================\n",
      "Omnibus:                      464.788   Durbin-Watson:                   1.595\n",
      "Prob(Omnibus):                  0.000   Jarque-Bera (JB):            11812.321\n",
      "Skew:                           4.164   Prob(JB):                         0.00\n",
      "Kurtosis:                      25.308   Cond. No.                     1.11e+17\n",
      "==============================================================================\n",
      "\n",
      "Warnings:\n",
      "[1] Standard Errors assume that the covariance matrix of the errors is correctly specified.\n",
      "[2] The smallest eigenvalue is 1.81e-28. This might indicate that there are\n",
      "strong multicollinearity problems or that the design matrix is singular.\n"
     ]
    },
    {
     "data": {
      "text/plain": [
       "<matplotlib.axes._subplots.AxesSubplot at 0x7fd7388be550>"
      ]
     },
     "execution_count": 117,
     "metadata": {},
     "output_type": "execute_result"
    },
    {
     "data": {
      "image/png": "[encoded data removed]",
      "text/plain": [
       "<Figure size 432x288 with 1 Axes>"
      ]
     },
     "metadata": {
      "needs_background": "light"
     },
     "output_type": "display_data"
    }
   ],
   "source": [
    "# have to be careful adding and removing features willy nilly tho.\n",
    "# have non-linear non-monotonic effects potentially and can be hard to prediuct whetehr it will actually improve\n",
    "# things apriori. gold standard is evaluation.\n",
    "# can do a systematic approach -- forward and backward selection\n",
    "\n",
    "# even though R^squared is relatively low, meaning this model has limited predictive pwoer.\n",
    "# it still can have a lot of inferential power as we have seen.\n",
    "\n",
    "# outiers could effect things\n",
    "results = fit(X[:500], y[:500])\n",
    "\n",
    "y.plot.kde()"
   ]
  },
  {
   "cell_type": "code",
   "execution_count": 121,
   "metadata": {},
   "outputs": [
    {
     "name": "stdout",
     "output_type": "stream",
     "text": [
      "                            OLS Regression Results                            \n",
      "==============================================================================\n",
      "Dep. Variable:                  price   R-squared:                       0.352\n",
      "Model:                            OLS   Adj. R-squared:                  0.346\n",
      "Method:                 Least Squares   F-statistic:                     65.44\n",
      "Date:                Fri, 22 Nov 2019   Prob (F-statistic):           2.76e-75\n",
      "Time:                        17:43:29   Log-Likelihood:                -4587.6\n",
      "No. Observations:                 853   AIC:                             9191.\n",
      "Df Residuals:                     845   BIC:                             9229.\n",
      "Df Model:                           7                                         \n",
      "Covariance Type:            nonrobust                                         \n",
      "=============================================================================================\n",
      "                                coef    std err          t      P>|t|      [0.025      0.975]\n",
      "---------------------------------------------------------------------------------------------\n",
      "const                        40.6148      4.060     10.003      0.000      32.645      48.584\n",
      "noise                         1.1939      1.814      0.658      0.511      -2.367       4.755\n",
      "number_of_reviews            -0.1339      0.060     -2.222      0.027      -0.252      -0.016\n",
      "num_venues                    0.1208      0.057      2.127      0.034       0.009       0.232\n",
      "rating                       -1.9423      1.146     -1.695      0.090      -4.191       0.306\n",
      "venue_activity                0.4417      0.191      2.306      0.021       0.066       0.818\n",
      "room_type_Entire home/apt    64.4625      4.356     14.798      0.000      55.912      73.013\n",
      "room_type_Private room       -3.6637      4.116     -0.890      0.374     -11.743       4.416\n",
      "room_type_Shared room       -20.1840     10.767     -1.875      0.061     -41.317       0.949\n",
      "==============================================================================\n",
      "Omnibus:                      704.862   Durbin-Watson:                   1.735\n",
      "Prob(Omnibus):                  0.000   Jarque-Bera (JB):            14550.753\n",
      "Skew:                           3.743   Prob(JB):                         0.00\n",
      "Kurtosis:                      21.798   Cond. No.                     1.40e+17\n",
      "==============================================================================\n",
      "\n",
      "Warnings:\n",
      "[1] Standard Errors assume that the covariance matrix of the errors is correctly specified.\n",
      "[2] The smallest eigenvalue is 2.34e-28. This might indicate that there are\n",
      "strong multicollinearity problems or that the design matrix is singular.\n"
     ]
    }
   ],
   "source": [
    "dummies= pd.get_dummies(features[['noise', 'number_of_reviews', 'room_type', 'num_venues', 'rating', 'venue_activity']])\n",
    "X = sm.add_constant(dummies)\n",
    "\n",
    "y = features.price\n",
    "\n",
    "X = X[y < 500]\n",
    "y = y[y < 500]\n",
    "\n",
    "results = fit(X, y)"
   ]
  },
  {
   "cell_type": "code",
   "execution_count": 122,
   "metadata": {},
   "outputs": [
    {
     "name": "stdout",
     "output_type": "stream",
     "text": [
      "                            OLS Regression Results                            \n",
      "==============================================================================\n",
      "Dep. Variable:                  price   R-squared:                       0.348\n",
      "Model:                            OLS   Adj. R-squared:                  0.343\n",
      "Method:                 Least Squares   F-statistic:                     75.17\n",
      "Date:                Fri, 22 Nov 2019   Prob (F-statistic):           3.47e-75\n",
      "Time:                        17:43:49   Log-Likelihood:                -4590.1\n",
      "No. Observations:                 853   AIC:                             9194.\n",
      "Df Residuals:                     846   BIC:                             9227.\n",
      "Df Model:                           6                                         \n",
      "Covariance Type:            nonrobust                                         \n",
      "=============================================================================================\n",
      "                                coef    std err          t      P>|t|      [0.025      0.975]\n",
      "---------------------------------------------------------------------------------------------\n",
      "const                        39.1704      4.017      9.750      0.000      31.285      47.056\n",
      "noise                         0.9349      1.815      0.515      0.607      -2.627       4.496\n",
      "num_venues                    0.1283      0.057      2.258      0.024       0.017       0.240\n",
      "rating                       -2.1709      1.144     -1.898      0.058      -4.416       0.074\n",
      "venue_activity                0.4575      0.192      2.385      0.017       0.081       0.834\n",
      "room_type_Entire home/apt    63.6923      4.352     14.634      0.000      55.149      72.235\n",
      "room_type_Private room       -4.3826      4.113     -1.065      0.287     -12.456       3.691\n",
      "room_type_Shared room       -20.1393     10.792     -1.866      0.062     -41.321       1.043\n",
      "==============================================================================\n",
      "Omnibus:                      711.226   Durbin-Watson:                   1.753\n",
      "Prob(Omnibus):                  0.000   Jarque-Bera (JB):            14974.153\n",
      "Skew:                           3.787   Prob(JB):                         0.00\n",
      "Kurtosis:                      22.077   Cond. No.                     1.32e+17\n",
      "==============================================================================\n",
      "\n",
      "Warnings:\n",
      "[1] Standard Errors assume that the covariance matrix of the errors is correctly specified.\n",
      "[2] The smallest eigenvalue is 2.56e-28. This might indicate that there are\n",
      "strong multicollinearity problems or that the design matrix is singular.\n"
     ]
    }
   ],
   "source": [
    "dummies= pd.get_dummies(features[['noise', 'room_type', 'num_venues', 'rating', 'venue_activity']])\n",
    "X = sm.add_constant(dummies)\n",
    "\n",
    "y = features.price\n",
    "\n",
    "X = X[y < 500]\n",
    "y = y[y < 500]\n",
    "\n",
    "results = fit(X, y)"
   ]
  },
  {
   "cell_type": "code",
   "execution_count": 123,
   "metadata": {},
   "outputs": [
    {
     "name": "stdout",
     "output_type": "stream",
     "text": [
      "                            OLS Regression Results                            \n",
      "==============================================================================\n",
      "Dep. Variable:                  price   R-squared:                       0.343\n",
      "Model:                            OLS   Adj. R-squared:                  0.339\n",
      "Method:                 Least Squares   F-statistic:                     88.58\n",
      "Date:                Fri, 22 Nov 2019   Prob (F-statistic):           5.82e-75\n",
      "Time:                        17:44:10   Log-Likelihood:                -4593.0\n",
      "No. Observations:                 853   AIC:                             9198.\n",
      "Df Residuals:                     847   BIC:                             9226.\n",
      "Df Model:                           5                                         \n",
      "Covariance Type:            nonrobust                                         \n",
      "=============================================================================================\n",
      "                                coef    std err          t      P>|t|      [0.025      0.975]\n",
      "---------------------------------------------------------------------------------------------\n",
      "const                        38.9901      4.028      9.680      0.000      31.085      46.896\n",
      "noise                         0.8830      1.819      0.485      0.628      -2.688       4.454\n",
      "num_venues                    0.1831      0.052      3.515      0.000       0.081       0.285\n",
      "rating                       -0.0405      0.716     -0.056      0.955      -1.447       1.366\n",
      "room_type_Entire home/apt    63.1190      4.358     14.484      0.000      54.565      71.672\n",
      "room_type_Private room       -6.1446      4.058     -1.514      0.130     -14.109       1.819\n",
      "room_type_Shared room       -17.9843     10.784     -1.668      0.096     -39.150       3.182\n",
      "==============================================================================\n",
      "Omnibus:                      708.034   Durbin-Watson:                   1.754\n",
      "Prob(Omnibus):                  0.000   Jarque-Bera (JB):            14674.688\n",
      "Skew:                           3.768   Prob(JB):                         0.00\n",
      "Kurtosis:                      21.871   Cond. No.                     1.45e+17\n",
      "==============================================================================\n",
      "\n",
      "Warnings:\n",
      "[1] Standard Errors assume that the covariance matrix of the errors is correctly specified.\n",
      "[2] The smallest eigenvalue is 1.84e-28. This might indicate that there are\n",
      "strong multicollinearity problems or that the design matrix is singular.\n"
     ]
    }
   ],
   "source": [
    "dummies= pd.get_dummies(features[['noise', 'room_type', 'num_venues', 'rating']])\n",
    "X = sm.add_constant(dummies)\n",
    "\n",
    "y = features.price\n",
    "\n",
    "X = X[y < 500]\n",
    "y = y[y < 500]\n",
    "\n",
    "results = fit(X, y)"
   ]
  },
  {
   "cell_type": "code",
   "execution_count": 124,
   "metadata": {},
   "outputs": [
    {
     "name": "stdout",
     "output_type": "stream",
     "text": [
      "                            OLS Regression Results                            \n",
      "==============================================================================\n",
      "Dep. Variable:                  price   R-squared:                       0.326\n",
      "Model:                            OLS   Adj. R-squared:                  0.321\n",
      "Method:                 Least Squares   F-statistic:                     59.92\n",
      "Date:                Fri, 22 Nov 2019   Prob (F-statistic):           2.94e-41\n",
      "Time:                        17:44:46   Log-Likelihood:                -2710.3\n",
      "No. Observations:                 500   AIC:                             5431.\n",
      "Df Residuals:                     495   BIC:                             5452.\n",
      "Df Model:                           4                                         \n",
      "Covariance Type:            nonrobust                                         \n",
      "=============================================================================================\n",
      "                                coef    std err          t      P>|t|      [0.025      0.975]\n",
      "---------------------------------------------------------------------------------------------\n",
      "const                        39.2589      5.980      6.565      0.000      27.510      51.007\n",
      "noise                         1.2859      2.561      0.502      0.616      -3.745       6.317\n",
      "num_venues                    0.1824      0.053      3.433      0.001       0.078       0.287\n",
      "room_type_Entire home/apt    62.6087      6.603      9.482      0.000      49.635      75.582\n",
      "room_type_Private room       -6.2997      6.224     -1.012      0.312     -18.529       5.930\n",
      "room_type_Shared room       -17.0501     16.942     -1.006      0.315     -50.338      16.237\n",
      "==============================================================================\n",
      "Omnibus:                      428.748   Durbin-Watson:                   1.622\n",
      "Prob(Omnibus):                  0.000   Jarque-Bera (JB):             8640.333\n",
      "Skew:                           3.767   Prob(JB):                         0.00\n",
      "Kurtosis:                      21.920   Cond. No.                     1.46e+17\n",
      "==============================================================================\n",
      "\n",
      "Warnings:\n",
      "[1] Standard Errors assume that the covariance matrix of the errors is correctly specified.\n",
      "[2] The smallest eigenvalue is 1.01e-28. This might indicate that there are\n",
      "strong multicollinearity problems or that the design matrix is singular.\n"
     ]
    },
    {
     "data": {
      "text/plain": [
       "id_listing\n",
       "5426892    105.736161\n",
       "5434596    141.836363\n",
       "5444096     24.778911\n",
       "5531503    108.818223\n",
       "5535695    120.652862\n",
       "              ...    \n",
       "9957253     39.907806\n",
       "9966170     62.136057\n",
       "9967488    110.983186\n",
       "9977546     40.271077\n",
       "9990314    127.994301\n",
       "Length: 353, dtype: float64"
      ]
     },
     "execution_count": 124,
     "metadata": {},
     "output_type": "execute_result"
    }
   ],
   "source": [
    "dummies= pd.get_dummies(features[['noise', 'room_type', 'num_venues']])\n",
    "X = sm.add_constant(dummies)\n",
    "y = features.price\n",
    "\n",
    "X = X[y < 500]\n",
    "y = y[y < 500]\n",
    "\n",
    "results = fit(X[:500], y[:500])\n",
    "\n",
    "predictions = results.predict(X[500:])\n",
    "predictions"
   ]
  },
  {
   "cell_type": "code",
   "execution_count": 125,
   "metadata": {},
   "outputs": [
    {
     "name": "stdout",
     "output_type": "stream",
     "text": [
      "                            OLS Regression Results                            \n",
      "==============================================================================\n",
      "Dep. Variable:                  price   R-squared:                       0.343\n",
      "Model:                            OLS   Adj. R-squared:                  0.340\n",
      "Method:                 Least Squares   F-statistic:                     110.9\n",
      "Date:                Fri, 22 Nov 2019   Prob (F-statistic):           5.19e-76\n",
      "Time:                        17:45:04   Log-Likelihood:                -4593.0\n",
      "No. Observations:                 853   AIC:                             9196.\n",
      "Df Residuals:                     848   BIC:                             9220.\n",
      "Df Model:                           4                                         \n",
      "Covariance Type:            nonrobust                                         \n",
      "=============================================================================================\n",
      "                                coef    std err          t      P>|t|      [0.025      0.975]\n",
      "---------------------------------------------------------------------------------------------\n",
      "const                        38.9255      3.860     10.085      0.000      31.350      46.501\n",
      "noise                         0.8806      1.818      0.484      0.628      -2.687       4.449\n",
      "num_venues                    0.1811      0.038      4.720      0.000       0.106       0.256\n",
      "room_type_Entire home/apt    63.1213      4.355     14.494      0.000      54.573      71.669\n",
      "room_type_Private room       -6.1203      4.032     -1.518      0.129     -14.035       1.794\n",
      "room_type_Shared room       -18.0755     10.656     -1.696      0.090     -38.991       2.840\n",
      "==============================================================================\n",
      "Omnibus:                      708.121   Durbin-Watson:                   1.754\n",
      "Prob(Omnibus):                  0.000   Jarque-Bera (JB):            14681.582\n",
      "Skew:                           3.768   Prob(JB):                         0.00\n",
      "Kurtosis:                      21.875   Cond. No.                     1.28e+17\n",
      "==============================================================================\n",
      "\n",
      "Warnings:\n",
      "[1] Standard Errors assume that the covariance matrix of the errors is correctly specified.\n",
      "[2] The smallest eigenvalue is 2.34e-28. This might indicate that there are\n",
      "strong multicollinearity problems or that the design matrix is singular.\n"
     ]
    },
    {
     "data": {
      "text/plain": [
       "0.3433520125683407"
      ]
     },
     "execution_count": 125,
     "metadata": {},
     "output_type": "execute_result"
    }
   ],
   "source": [
    "labels = y[500:]\n",
    "\n",
    "mse = np.square(predictions - labels).mean()\n",
    "rms = np.sqrt(mse)\n",
    "tts = np.square(labels - labels.mean()).sum()\n",
    "\n",
    "r2 = 1 - (len(labels) * mse / tts)\n",
    "\n",
    "def r2(predictions, labels):\n",
    "    mse = np.square(predictions - labels).mean()\n",
    "    rms = np.sqrt(mse)\n",
    "    tts = np.square(labels - labels.mean()).sum()\n",
    "\n",
    "    return 1 - (len(labels) * mse / tts)\n",
    "\n",
    "results = fit(X, y)\n",
    "\n",
    "predictions = results.predict(X)\n",
    "\n",
    "r2(predictions, y)"
   ]
  },
  {
   "cell_type": "code",
   "execution_count": 128,
   "metadata": {},
   "outputs": [
    {
     "name": "stderr",
     "output_type": "stream",
     "text": [
      "/Users/jonathandinu/anaconda3/lib/python3.7/site-packages/IPython/core/interactiveshell.py:3058: DtypeWarning: Columns (85) have mixed types. Specify dtype option on import or set low_memory=False.\n",
      "  interactivity=interactivity, compiler=compiler, result=result)\n",
      "/Users/jonathandinu/anaconda3/lib/python3.7/site-packages/IPython/core/interactiveshell.py:3058: DtypeWarning: Columns (40) have mixed types. Specify dtype option on import or set low_memory=False.\n",
      "  interactivity=interactivity, compiler=compiler, result=result)\n",
      "/Users/jonathandinu/anaconda3/lib/python3.7/site-packages/IPython/core/interactiveshell.py:3058: DtypeWarning: Columns (40,85) have mixed types. Specify dtype option on import or set low_memory=False.\n",
      "  interactivity=interactivity, compiler=compiler, result=result)\n",
      "/Users/jonathandinu/anaconda3/lib/python3.7/site-packages/IPython/core/interactiveshell.py:3058: DtypeWarning: Columns (26) have mixed types. Specify dtype option on import or set low_memory=False.\n",
      "  interactivity=interactivity, compiler=compiler, result=result)\n",
      "/Users/jonathandinu/anaconda3/lib/python3.7/site-packages/IPython/core/interactiveshell.py:3058: DtypeWarning: Columns (26,65) have mixed types. Specify dtype option on import or set low_memory=False.\n",
      "  interactivity=interactivity, compiler=compiler, result=result)\n",
      "/Users/jonathandinu/anaconda3/lib/python3.7/site-packages/ipykernel_launcher.py:13: FutureWarning: Sorting because non-concatenation axis is not aligned. A future version\n",
      "of pandas will change to not sort by default.\n",
      "\n",
      "To accept the future behavior, pass 'sort=False'.\n",
      "\n",
      "To retain the current behavior and silence the warning, pass 'sort=True'.\n",
      "\n",
      "  del sys.path[0]\n"
     ]
    },
    {
     "data": {
      "text/plain": [
       "464565"
      ]
     },
     "execution_count": 128,
     "metadata": {},
     "output_type": "execute_result"
    }
   ],
   "source": [
    "import os\n",
    "import pandas as pd\n",
    "import matplotlib.pyplot as plt\n",
    "import numpy as np\n",
    "import seaborn as sns\n",
    "\n",
    "base = 'data/airbnb/historic/nyc/'\n",
    "dataframes = []\n",
    "\n",
    "for filename in os.listdir(base):\n",
    "    dataframes.append(pd.read_csv(base + filename))\n",
    "\n",
    "joined = pd.concat(dataframes)\n",
    "len(joined)"
   ]
  },
  {
   "cell_type": "code",
   "execution_count": null,
   "metadata": {},
   "outputs": [],
   "source": [
    "sum([len(df) for df in dataframes ])"
   ]
  },
  {
   "cell_type": "code",
   "execution_count": 129,
   "metadata": {},
   "outputs": [
    {
     "data": {
      "text/plain": [
       "1332570     15\n",
       "3847681     15\n",
       "2120677     15\n",
       "2165878     15\n",
       "3767267     15\n",
       "            ..\n",
       "307163       1\n",
       "11457547     1\n",
       "690206       1\n",
       "4692875      1\n",
       "7346179      1\n",
       "Name: id, Length: 77201, dtype: int64"
      ]
     },
     "execution_count": 129,
     "metadata": {},
     "output_type": "execute_result"
    }
   ],
   "source": [
    "joined.id.value_counts()"
   ]
  },
  {
   "cell_type": "code",
   "execution_count": 130,
   "metadata": {},
   "outputs": [
    {
     "data": {
      "text/plain": [
       "20438    2016-05-02\n",
       "21707    2016-02-02\n",
       "16845    2016-01-02\n",
       "8282     2015-06-01\n",
       "19002    2015-09-02\n",
       "20247    2016-04-03\n",
       "19469    2015-01-02\n",
       "20522    2015-11-20\n",
       "18826    2015-08-01\n",
       "18891    2015-10-01\n",
       "8301     2015-05-02\n",
       "20936    2015-12-02\n",
       "17930    2015-04-02\n",
       "31153    2015-11-02\n",
       "17694    2015-03-02\n",
       "Name: last_scraped, dtype: object"
      ]
     },
     "execution_count": 130,
     "metadata": {},
     "output_type": "execute_result"
    }
   ],
   "source": [
    "joined[joined.id == 4632705].last_scraped"
   ]
  },
  {
   "cell_type": "code",
   "execution_count": 131,
   "metadata": {},
   "outputs": [
    {
     "name": "stderr",
     "output_type": "stream",
     "text": [
      "/Users/jonathandinu/anaconda3/lib/python3.7/site-packages/ipykernel_launcher.py:2: FutureWarning: by argument to sort_index is deprecated, please use .sort_values(by=...)\n",
      "  \n"
     ]
    }
   ],
   "source": [
    "joined.last_scraped = pd.to_datetime(joined.last_scraped)\n",
    "dedup = joined.sort_index(by='last_scraped').drop_duplicates(subset=['id'], keep='last')"
   ]
  },
  {
   "cell_type": "code",
   "execution_count": 132,
   "metadata": {},
   "outputs": [
    {
     "data": {
      "text/plain": [
       "77201"
      ]
     },
     "execution_count": 132,
     "metadata": {},
     "output_type": "execute_result"
    }
   ],
   "source": [
    "len(dedup)\n",
    "len(joined.id.unique())"
   ]
  },
  {
   "cell_type": "code",
   "execution_count": 133,
   "metadata": {},
   "outputs": [
    {
     "data": {
      "text/plain": [
       "True     44626\n",
       "False    32575\n",
       "Name: churn, dtype: int64"
      ]
     },
     "execution_count": 133,
     "metadata": {},
     "output_type": "execute_result"
    }
   ],
   "source": [
    "# Label Listings that have been removed (not present in most recent scrape)\n",
    "dedup['churn'] = dedup.last_scraped != pd.Timestamp('2016-05-02')\n",
    "dedup['churn'].value_counts()"
   ]
  },
  {
   "cell_type": "code",
   "execution_count": 134,
   "metadata": {},
   "outputs": [
    {
     "name": "stderr",
     "output_type": "stream",
     "text": [
      "/Users/jonathandinu/anaconda3/lib/python3.7/site-packages/ipykernel_launcher.py:8: SettingWithCopyWarning: \n",
      "A value is trying to be set on a copy of a slice from a DataFrame.\n",
      "Try using .loc[row_indexer,col_indexer] = value instead\n",
      "\n",
      "See the caveats in the documentation: http://pandas.pydata.org/pandas-docs/stable/user_guide/indexing.html#returning-a-view-versus-a-copy\n",
      "  \n",
      "/Users/jonathandinu/anaconda3/lib/python3.7/site-packages/ipykernel_launcher.py:9: SettingWithCopyWarning: \n",
      "A value is trying to be set on a copy of a slice from a DataFrame.\n",
      "Try using .loc[row_indexer,col_indexer] = value instead\n",
      "\n",
      "See the caveats in the documentation: http://pandas.pydata.org/pandas-docs/stable/user_guide/indexing.html#returning-a-view-versus-a-copy\n",
      "  if __name__ == '__main__':\n",
      "/Users/jonathandinu/anaconda3/lib/python3.7/site-packages/ipykernel_launcher.py:10: SettingWithCopyWarning: \n",
      "A value is trying to be set on a copy of a slice from a DataFrame.\n",
      "Try using .loc[row_indexer,col_indexer] = value instead\n",
      "\n",
      "See the caveats in the documentation: http://pandas.pydata.org/pandas-docs/stable/user_guide/indexing.html#returning-a-view-versus-a-copy\n",
      "  # Remove the CWD from sys.path while we load stuff.\n",
      "/Users/jonathandinu/anaconda3/lib/python3.7/site-packages/ipykernel_launcher.py:11: SettingWithCopyWarning: \n",
      "A value is trying to be set on a copy of a slice from a DataFrame.\n",
      "Try using .loc[row_indexer,col_indexer] = value instead\n",
      "\n",
      "See the caveats in the documentation: http://pandas.pydata.org/pandas-docs/stable/user_guide/indexing.html#returning-a-view-versus-a-copy\n",
      "  # This is added back by InteractiveShellApp.init_path()\n"
     ]
    }
   ],
   "source": [
    "features = dedup[['host_is_superhost', 'price',\n",
    "                    'room_type', 'accommodates',\n",
    "                    'review_scores_cleanliness', 'review_scores_location', 'host_identity_verified',\n",
    "                    'host_response_time', 'host_response_rate', 'host_has_profile_pic', 'availability_365',\n",
    "                    'calculated_host_listings_count', 'calendar_updated', 'last_review', 'minimum_nights',\n",
    "                    'number_of_reviews', 'reviews_per_month', 'churn']]\n",
    "\n",
    "features['last_review'] = pd.to_datetime(features.last_review)\n",
    "features['days_since_last_review'] = (features.last_review.apply(lambda x: pd.Timestamp('2016-05-02') - x)/ np.timedelta64(1, 'D'))\n",
    "features['host_response_rate'] = features.host_response_rate.str.strip('%').astype(float)\n",
    "features['price'] = features.price.str.strip('$').str.replace(',', '').astype(float)\n",
    "\n",
    "prep = features.drop('last_review', axis=1)\n",
    "\n",
    "prep = prep.fillna({'host_is_superhost': 'f', 'reviews_per_month': 0, 'instant_bookable': 'f',\n",
    "                          'review_scores_cleanliness': 0, 'review_scores_location': 0, 'host_identity_verified': 'f',\n",
    "                         'host_identity_verified': 'f', 'host_response_rate': 0, 'host_response_time': 'a few days or more', \n",
    "                         'host_has_profile_pic': 'f', 'calculated_host_listings_count': 1, 'days_since_last_review': 3650,\n",
    "                         'availability_365': features.availability_365.mean()})\n"
   ]
  },
  {
   "cell_type": "code",
   "execution_count": 136,
   "metadata": {},
   "outputs": [
    {
     "name": "stderr",
     "output_type": "stream",
     "text": [
      "/Users/jonathandinu/anaconda3/lib/python3.7/site-packages/ipykernel_launcher.py:4: FutureWarning: Method .as_matrix will be removed in a future version. Use .values instead.\n",
      "  after removing the cwd from sys.path.\n"
     ]
    }
   ],
   "source": [
    "df = pd.read_csv('data/airbnb/churn.csv')\n",
    "labels = df.churn\n",
    "features = df.drop('churn', axis=1)\n",
    "feature_matrix = pd.get_dummies(features).as_matrix()"
   ]
  },
  {
   "cell_type": "code",
   "execution_count": 138,
   "metadata": {},
   "outputs": [
    {
     "name": "stderr",
     "output_type": "stream",
     "text": [
      "/Users/jonathandinu/anaconda3/lib/python3.7/site-packages/sklearn/linear_model/logistic.py:432: FutureWarning: Default solver will be changed to 'lbfgs' in 0.22. Specify a solver to silence this warning.\n",
      "  FutureWarning)\n"
     ]
    },
    {
     "data": {
      "text/plain": [
       "0.7422391088467682"
      ]
     },
     "execution_count": 138,
     "metadata": {},
     "output_type": "execute_result"
    }
   ],
   "source": [
    "from sklearn.linear_model import LogisticRegression\n",
    "from sklearn.model_selection import train_test_split\n",
    "\n",
    "X_train, X_test, y_train, y_test = train_test_split(feature_matrix, labels, test_size=0.3)\n",
    "\n",
    "# create model (estimator) object\n",
    "model = LogisticRegression(penalty='l1')\n",
    "\n",
    "# fit model to training data\n",
    "model.fit(X_train, y_train)\n",
    "\n",
    "# make predictions\n",
    "predictions = model.predict(X_test)\n",
    "\n",
    "# evaluate model\n",
    "accuracy = (predictions == y_test).sum() / len(y_test)\n",
    "\n",
    "model.score(X_test, y_test)"
   ]
  },
  {
   "cell_type": "code",
   "execution_count": 139,
   "metadata": {},
   "outputs": [
    {
     "name": "stderr",
     "output_type": "stream",
     "text": [
      "/Users/jonathandinu/anaconda3/lib/python3.7/site-packages/ipykernel_launcher.py:6: FutureWarning: Method .as_matrix will be removed in a future version. Use .values instead.\n",
      "  \n"
     ]
    }
   ],
   "source": [
    "df.churn.value_counts()\n",
    "down_sample = df[df.churn == False].sample(5000)\n",
    "sub_sample = pd.concat([down_sample, df[df.churn == True]])\n",
    "labels = sub_sample.churn\n",
    "features = sub_sample.drop('churn', axis=1)\n",
    "feature_matrix = pd.get_dummies(features).as_matrix()\n",
    "\n",
    "X_train, X_test, y_train, y_test = train_test_split(feature_matrix, labels, test_size=0.3)"
   ]
  },
  {
   "cell_type": "code",
   "execution_count": 140,
   "metadata": {},
   "outputs": [
    {
     "name": "stderr",
     "output_type": "stream",
     "text": [
      "/Users/jonathandinu/anaconda3/lib/python3.7/site-packages/sklearn/linear_model/logistic.py:432: FutureWarning: Default solver will be changed to 'lbfgs' in 0.22. Specify a solver to silence this warning.\n",
      "  FutureWarning)\n"
     ]
    },
    {
     "data": {
      "text/plain": [
       "0.902270284793122"
      ]
     },
     "execution_count": 140,
     "metadata": {},
     "output_type": "execute_result"
    }
   ],
   "source": [
    "# create model (estimator) object\n",
    "clf = LogisticRegression(penalty='l1')\n",
    "\n",
    "# fit model to training data\n",
    "clf.fit(X_train, y_train)\n",
    "\n",
    "# make predictions\n",
    "predictions = clf.predict(X_test)\n",
    "\n",
    "# # evaluate model\n",
    "# accuracy = (predictions == y_test).sum() / len(y_test)\n",
    "\n",
    "clf.score(X_test, y_test)"
   ]
  },
  {
   "cell_type": "code",
   "execution_count": 141,
   "metadata": {},
   "outputs": [
    {
     "data": {
      "text/plain": [
       "0.9206743686190221"
      ]
     },
     "execution_count": 141,
     "metadata": {},
     "output_type": "execute_result"
    }
   ],
   "source": [
    "from sklearn.neighbors import KNeighborsClassifier\n",
    "\n",
    "model = KNeighborsClassifier()\n",
    "clf = model.fit(X_train, y_train)\n",
    "clf.score(X_test, y_test)"
   ]
  },
  {
   "cell_type": "code",
   "execution_count": 142,
   "metadata": {},
   "outputs": [],
   "source": [
    "from sklearn.model_selection import cross_val_score\n",
    "from sklearn.metrics import confusion_matrix\n",
    "\n",
    "def plot_confusion_matrix(cm, title='Confusion matrix', cmap=plt.cm.Blues):\n",
    "    plt.imshow(cm, interpolation='nearest', cmap=cmap)\n",
    "    plt.title(title)\n",
    "    plt.colorbar()\n",
    "\n",
    "    plt.tight_layout()\n",
    "    plt.ylabel('True label')\n",
    "    plt.xlabel('Predicted label')\n",
    "    \n",
    "y_pred = clf.predict(X_test)\n",
    "y_score = clf.predict_proba(X_test)"
   ]
  },
  {
   "cell_type": "code",
   "execution_count": 143,
   "metadata": {},
   "outputs": [
    {
     "name": "stdout",
     "output_type": "stream",
     "text": [
      "Confusion matrix, without normalization\n",
      "[[  486  1000]\n",
      " [  181 13221]]\n"
     ]
    },
    {
     "data": {
      "image/png": "[encoded data removed]",
      "text/plain": [
       "<Figure size 432x288 with 2 Axes>"
      ]
     },
     "metadata": {
      "needs_background": "light"
     },
     "output_type": "display_data"
    }
   ],
   "source": [
    "# Compute confusion matrix\n",
    "cm = confusion_matrix(y_test, y_pred)\n",
    "np.set_printoptions(precision=2)\n",
    "print('Confusion matrix, without normalization')\n",
    "print(cm)\n",
    "plt.figure()\n",
    "plot_confusion_matrix(cm)"
   ]
  },
  {
   "cell_type": "code",
   "execution_count": 145,
   "metadata": {},
   "outputs": [
    {
     "name": "stdout",
     "output_type": "stream",
     "text": [
      "              precision    recall  f1-score   support\n",
      "\n",
      "       False       0.73      0.33      0.45      1486\n",
      "        True       0.93      0.99      0.96     13402\n",
      "\n",
      "    accuracy                           0.92     14888\n",
      "   macro avg       0.83      0.66      0.70     14888\n",
      "weighted avg       0.91      0.92      0.91     14888\n",
      "\n"
     ]
    },
    {
     "data": {
      "image/png": "[encoded data removed]",
      "text/plain": [
       "<Figure size 432x288 with 1 Axes>"
      ]
     },
     "metadata": {
      "needs_background": "light"
     },
     "output_type": "display_data"
    }
   ],
   "source": [
    "from sklearn.metrics import roc_curve, auc, classification_report\n",
    "\n",
    "print(classification_report(y_test, y_pred))\n",
    "\n",
    "fpr, tpr, thresholds = roc_curve(y_test, y_score[:, 1])\n",
    "\n",
    "plt.figure()\n",
    "plt.plot(fpr, tpr, label='ROC curve (area = %0.2f)' % auc(fpr, tpr))\n",
    "plt.plot([0, 1], [0, 1], 'k--')\n",
    "plt.xlim([0.0, 1.0])\n",
    "plt.ylim([0.0, 1.05])\n",
    "plt.xlabel('False Positive Rate')\n",
    "plt.ylabel('True Positive Rate')\n",
    "plt.title('ROC plot for Logistic Regression for Airbnb Churn')\n",
    "plt.legend(loc=\"lower right\")\n",
    "plt.show()"
   ]
  },
  {
   "cell_type": "code",
   "execution_count": 151,
   "metadata": {
    "scrolled": true
   },
   "outputs": [
    {
     "name": "stdout",
     "output_type": "stream",
     "text": [
      "0.8988515011082007\n"
     ]
    },
    {
     "data": {
      "image/png": "[encoded data removed]",
      "text/plain": [
       "<Figure size 432x288 with 2 Axes>"
      ]
     },
     "metadata": {
      "needs_background": "light"
     },
     "output_type": "display_data"
    }
   ],
   "source": [
    "X_train, X_test, y_train, y_test = train_test_split(feature_matrix, labels, test_size=0.2)\n",
    "\n",
    "scores = np.zeros((2, 8))\n",
    "penalties = ['l1', 'l2']\n",
    "regularization = [0.0001, 0.001, 0.01, 0.1, 1.0, 10.0, 100.0, 1000.0]\n",
    "\n",
    "for i, penalty in enumerate(penalties):\n",
    "    for j, C in enumerate(regularization):\n",
    "        clf = LogisticRegression(penalty=penalty, C=C, solver=\"liblinear\")\n",
    "\n",
    "        scores[i, j] = cross_val_score(clf, X_train, y_train, cv=5).mean()\n",
    "\n",
    "sns.heatmap(scores, xticklabels=regularization, yticklabels=penalties)\n",
    "\n",
    "# Prefer L1 for sparsity constraints\n",
    "scores[0].argmax()\n",
    "\n",
    "# Create model with best performing hyperparameters\n",
    "clf = LogisticRegression(penalty='l1', C=regularization[3], solver=\"liblinear\")\n",
    "\n",
    "# Fit on all of your (training) data\n",
    "clf.fit(X_train, y_train)\n",
    "\n",
    "# Evaluate on Holdout set\n",
    "print(clf.score(X_test, y_test))"
   ]
  }
 ],
 "metadata": {
  "kernelspec": {
   "display_name": "Python 3",
   "language": "python",
   "name": "python3"
  },
  "language_info": {
   "codemirror_mode": {
    "name": "ipython",
    "version": 3
   },
   "file_extension": ".py",
   "mimetype": "text/x-python",
   "name": "python",
   "nbconvert_exporter": "python",
   "pygments_lexer": "ipython3",
   "version": "3.7.3"
  }
 },
 "nbformat": 4,
 "nbformat_minor": 2
}
